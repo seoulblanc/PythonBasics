{
 "cells": [
  {
   "cell_type": "markdown",
   "metadata": {},
   "source": [
    "# Basic python\n",
    "## 1. Let's study basic python grammar"
   ]
  },
  {
   "cell_type": "code",
   "execution_count": 13,
   "metadata": {},
   "outputs": [
    {
     "name": "stdout",
     "output_type": "stream",
     "text": [
      "   123.456\n",
      "  1.23e+02\n",
      "       123\n"
     ]
    }
   ],
   "source": [
    "# list []\n",
    "# set {}\n",
    "# tuple ()\n",
    "# dict {'키:값'}\n",
    "\n",
    "a1 = format(123.45567,'10.3f')\n",
    "print(a1)\n",
    "\n",
    "a2 = format(123.4567, '10.3')\n",
    "print(a2)\n",
    "\n",
    "a3 = format(123, '10d')\n",
    "print(a3)\n"
   ]
  },
  {
   "cell_type": "code",
   "execution_count": 17,
   "metadata": {},
   "outputs": [
    {
     "name": "stdout",
     "output_type": "stream",
     "text": [
      "서식에 의한 자료 출력 예시: 문자열 2 23.560000\n"
     ]
    }
   ],
   "source": [
    "print('서식에 의한 자료 출력 예시: %s %d %f'%('문자열', 2, 23.56))"
   ]
  },
  {
   "cell_type": "code",
   "execution_count": 170,
   "metadata": {},
   "outputs": [
    {
     "name": "stdout",
     "output_type": "stream",
     "text": [
      "이름을 입력: 페로페로\n",
      "페로페로\n",
      "나이 입력:12\n",
      "12\n"
     ]
    }
   ],
   "source": [
    "kdata = input('이름을 입력: ')\n",
    "print(kdata)\n",
    "\n",
    "nai = int(input('나이 입력:'))\n",
    "print(nai)\n"
   ]
  },
  {
   "cell_type": "code",
   "execution_count": 22,
   "metadata": {},
   "outputs": [
    {
     "name": "stdout",
     "output_type": "stream",
     "text": [
      "10 0o12 0xa 0b1010\n"
     ]
    }
   ],
   "source": [
    "print(10, oct(10), hex(10), bin(10))"
   ]
  },
  {
   "cell_type": "code",
   "execution_count": 25,
   "metadata": {},
   "outputs": [
    {
     "name": "stdout",
     "output_type": "stream",
     "text": [
      "<class 'int'>\n",
      "7.2 <class 'float'>\n",
      "[1] <class 'list'>\n"
     ]
    }
   ],
   "source": [
    "print(type(nai))\n",
    "print(7.2, type(7.2))\n",
    "print([1],type([1]))"
   ]
  },
  {
   "cell_type": "code",
   "execution_count": 38,
   "metadata": {},
   "outputs": [
    {
     "name": "stdout",
     "output_type": "stream",
     "text": [
      "1\n",
      "3\n",
      "(3, 1)\n",
      "1000\n"
     ]
    }
   ],
   "source": [
    "# 나머지 반환\n",
    "print(10%3)\n",
    "\n",
    "# 몫을 반환\n",
    "print(10//3)\n",
    "\n",
    "# 나머지와 몫을 반환\n",
    "print(divmod(10,3))\n",
    "\n",
    "# 지수승\n",
    "print(10**3)"
   ]
  },
  {
   "cell_type": "code",
   "execution_count": 36,
   "metadata": {},
   "outputs": [
    {
     "data": {
      "text/plain": [
       "[2, 3, 4, 5]"
      ]
     },
     "execution_count": 36,
     "metadata": {},
     "output_type": "execute_result"
    }
   ],
   "source": [
    "v1, v2 = 10, 20\n",
    "v1\n",
    "v2\n",
    "\n",
    "# *표시가 붙은 곳에 여러개가 할당된다\n",
    "v3, *v4 = [1,2,3,4,5]\n",
    "v3\n",
    "v4"
   ]
  },
  {
   "cell_type": "code",
   "execution_count": 39,
   "metadata": {},
   "outputs": [
    {
     "name": "stdout",
     "output_type": "stream",
     "text": [
      "False\n"
     ]
    }
   ],
   "source": [
    "print(5>3 and 4<3) #둘 다 참이면 참, 아니면 거짓"
   ]
  },
  {
   "cell_type": "code",
   "execution_count": 40,
   "metadata": {},
   "outputs": [
    {
     "name": "stdout",
     "output_type": "stream",
     "text": [
      "True\n"
     ]
    }
   ],
   "source": [
    "print(5>3 or 4<3) #둘 중 하나가 참이면 참, 아니면 거짓"
   ]
  },
  {
   "cell_type": "code",
   "execution_count": 44,
   "metadata": {},
   "outputs": [
    {
     "data": {
      "text/plain": [
       "True"
      ]
     },
     "execution_count": 44,
     "metadata": {},
     "output_type": "execute_result"
    }
   ],
   "source": [
    "#boolean 처리\n",
    "bool(0) #0이면 무조건 False / 비어 있는 값도 무조건 False\n",
    "bool(-1) #0이 아니면 무조건 True"
   ]
  },
  {
   "cell_type": "code",
   "execution_count": 54,
   "metadata": {},
   "outputs": [
    {
     "data": {
      "text/plain": [
       "'12345'"
      ]
     },
     "execution_count": 54,
     "metadata": {},
     "output_type": "execute_result"
    }
   ],
   "source": [
    "slc = 'python'\n",
    "slc[0:1]\n",
    "slc[2:4]\n",
    "slc[-5:-3]\n",
    "\n",
    "slc2 = '12345.5678.64'\n",
    "slc2[0:5]\n"
   ]
  },
  {
   "cell_type": "code",
   "execution_count": 82,
   "metadata": {},
   "outputs": [
    {
     "data": {
      "text/plain": [
       "14"
      ]
     },
     "execution_count": 82,
     "metadata": {},
     "output_type": "execute_result"
    }
   ],
   "source": [
    "a = ' Hello Python '\n",
    "\n",
    "a.count('h') #h의 갯수를 반환한다\n",
    "a.find('p') #위치를 앞에서 부터 찾는다\n",
    "a.rfind('p') #위치를 뒤에서 부터 찾는다\n",
    "a.index('o') #위치를 앞에서 부터 찾는다(없으면 에러 발생)\n",
    "'&'.join(a) #문자열 각 요소 문자 사이에 &를 삽입한다.\n",
    "\n",
    "a.lower() #모두 소문자로 변환\n",
    "a.upper() #모두 대문자로 변환\n",
    "\n",
    "a.lstrip() #문자열 왼쪽의 공백을 모두 지운다\n",
    "a.rstrip() #문자열 오른쪽의 공백을 모두 지운다 \n",
    "\n",
    "a.replace('o', 'r') #문자열 안의 o를 r로 바꾼다\n",
    "a.split('sep') # 문자열 a를 구분자로 나누어 리스트값을 반환한다\n",
    "a.swapcase() # 대문자는 소문자로, 소문자는 대문자로 반환한다\n",
    "a.startswith('H') #H로 시작되는지 여부를 True, False로 나누어서 반환한다\n",
    "len(a) #문자열 크리(길이)를 반환한다\n"
   ]
  },
  {
   "cell_type": "code",
   "execution_count": 104,
   "metadata": {},
   "outputs": [
    {
     "name": "stdout",
     "output_type": "stream",
     "text": [
      "['one', 'two', 'three']\n"
     ]
    }
   ],
   "source": [
    "list01 = ['one', 'TWO', 'Three']\n",
    "\n",
    "list02 = []\n",
    "for i in list01 :\n",
    "    list02.append(i.lower())\n",
    "    \n",
    "print(list02)\n",
    "        "
   ]
  },
  {
   "cell_type": "code",
   "execution_count": 107,
   "metadata": {},
   "outputs": [
    {
     "name": "stdout",
     "output_type": "stream",
     "text": [
      "['one']\n"
     ]
    }
   ],
   "source": [
    "list01 = ['one', 'TWO', 'Three']\n",
    "\n",
    "list03 = [w for w in list01 if w.islower()]\n",
    "# 특정한 값만 for 문으로 돌려서 리스트에 담을 때 \n",
    "\n",
    "print(list03)"
   ]
  },
  {
   "cell_type": "code",
   "execution_count": 110,
   "metadata": {},
   "outputs": [
    {
     "name": "stdout",
     "output_type": "stream",
     "text": [
      "['123', '456', '678']\n"
     ]
    }
   ],
   "source": [
    "number = '123 456 678'\n",
    "number2 = number.split(' ') #공백으로 문자열을 나누어서 담기! \n",
    "print(number2)"
   ]
  },
  {
   "cell_type": "code",
   "execution_count": 113,
   "metadata": {},
   "outputs": [
    {
     "data": {
      "text/plain": [
       "'123-456-678'"
      ]
     },
     "execution_count": 113,
     "metadata": {},
     "output_type": "execute_result"
    }
   ],
   "source": [
    "number3 = '-'.join(number2) #나누어진 값을 - 로 붙여서 담기! (join 앞에 무엇으로 나눌지 써야함!)\n",
    "number3"
   ]
  },
  {
   "cell_type": "code",
   "execution_count": 118,
   "metadata": {},
   "outputs": [
    {
     "data": {
      "text/plain": [
       "'12304560678'"
      ]
     },
     "execution_count": 118,
     "metadata": {},
     "output_type": "execute_result"
    }
   ],
   "source": [
    "number4 = number.replace(' ', '0') #공백을 0으로 바꾸어서 담기! \n",
    "number4"
   ]
  },
  {
   "cell_type": "code",
   "execution_count": 119,
   "metadata": {},
   "outputs": [
    {
     "data": {
      "text/plain": [
       "['123', '456', '678']"
      ]
     },
     "execution_count": 119,
     "metadata": {},
     "output_type": "execute_result"
    }
   ],
   "source": [
    "number4.split('0') # split 복습 (split 결과는 list에 담긴다)"
   ]
  },
  {
   "cell_type": "code",
   "execution_count": 120,
   "metadata": {},
   "outputs": [
    {
     "data": {
      "text/plain": [
       "'123-456-678'"
      ]
     },
     "execution_count": 120,
     "metadata": {},
     "output_type": "execute_result"
    }
   ],
   "source": [
    "number4.replace('0', '-') # replace 복습"
   ]
  },
  {
   "cell_type": "code",
   "execution_count": 141,
   "metadata": {},
   "outputs": [
    {
     "data": {
      "text/plain": [
       "'111-222'"
      ]
     },
     "execution_count": 141,
     "metadata": {},
     "output_type": "execute_result"
    }
   ],
   "source": [
    "list_n = ['111','222']\n",
    "'-'.join(list_n) #join은 list 상태에서 쓸 수 있다는 거 \n"
   ]
  },
  {
   "cell_type": "code",
   "execution_count": 158,
   "metadata": {},
   "outputs": [
    {
     "data": {
      "text/plain": [
       "[99, 0, 1, 2, 3, 4, 88, 5]"
      ]
     },
     "execution_count": 158,
     "metadata": {},
     "output_type": "execute_result"
    }
   ],
   "source": [
    "# list 에 문자 추가하기 \n",
    "\n",
    "listnew = [0,1,2,3,4]\n",
    "listnew.insert(0,99) # 0번째(인덱스 값)에 99를 추가해라\n",
    "\n",
    "listnew.append(88) # 마지막 요소에 88을 추가해라\n",
    "\n",
    "listnew.extend([5]) # 마지막 요소에 40을 추가해라 (append 와 달리 리스트에 넣어야함)\n",
    "listnew \n"
   ]
  },
  {
   "cell_type": "code",
   "execution_count": 166,
   "metadata": {},
   "outputs": [
    {
     "data": {
      "text/plain": [
       "[8, 6, 4, 3, 2, 1]"
      ]
     },
     "execution_count": 166,
     "metadata": {},
     "output_type": "execute_result"
    }
   ],
   "source": [
    "aalist = [4,2,6,8,3,1]\n",
    "aalist.sort() #작은 숫자부터 큰 숫자 순서로 리스트업 해라\n",
    "aalist\n",
    "\n",
    "aalist.sort(reverse=True) #큰 숫자부터 작은 숫자 순서로 역순으로 정렬해라\n",
    "aalist"
   ]
  },
  {
   "cell_type": "code",
   "execution_count": 168,
   "metadata": {},
   "outputs": [
    {
     "data": {
      "text/plain": [
       "[0, 1, 2, 3, 4, 5, 88, 99]"
      ]
     },
     "execution_count": 168,
     "metadata": {},
     "output_type": "execute_result"
    }
   ],
   "source": [
    "listnew.sort(key=int) #문자형이지만 숫자라고 생각하고 정렬해라 \n",
    "listnew"
   ]
  },
  {
   "cell_type": "code",
   "execution_count": 172,
   "metadata": {},
   "outputs": [
    {
     "data": {
      "text/plain": [
       "{'A': 11, 'B': 'bbb', 'C': '2.3'}"
      ]
     },
     "execution_count": 172,
     "metadata": {},
     "output_type": "execute_result"
    }
   ],
   "source": [
    "mydic = dict(A = 11, B = 'bbb', C='2.3')\n",
    "mydic"
   ]
  },
  {
   "cell_type": "code",
   "execution_count": 174,
   "metadata": {},
   "outputs": [
    {
     "data": {
      "text/plain": [
       "11"
      ]
     },
     "execution_count": 174,
     "metadata": {},
     "output_type": "execute_result"
    }
   ],
   "source": [
    "mydic['A'] # dict 에서 key로 value 조회할 때\n",
    "mydic.get('B') "
   ]
  },
  {
   "cell_type": "code",
   "execution_count": 177,
   "metadata": {},
   "outputs": [
    {
     "data": {
      "text/plain": [
       "dict_items([('A', 11), ('B', 'bbb'), ('C', '2.3')])"
      ]
     },
     "execution_count": 177,
     "metadata": {},
     "output_type": "execute_result"
    }
   ],
   "source": [
    "mydic.keys() # dict 에서 key 값들을 알고 싶을 때 \n",
    "mydic.values() # dict 에서 value 값들을 알고 싶을 때 \n",
    "mydic.items() # dict 에서 key오 value 값들을 알고 싶을 때 "
   ]
  },
  {
   "cell_type": "code",
   "execution_count": 182,
   "metadata": {},
   "outputs": [
    {
     "data": {
      "text/plain": [
       "{'A': 11, 'B': 'bbb', 'C': '2.3', 'D': 1234}"
      ]
     },
     "execution_count": 182,
     "metadata": {},
     "output_type": "execute_result"
    }
   ],
   "source": [
    "mydic['D'] = 1234 #새로운 key, value를 추가할 때 \n",
    "mydic"
   ]
  },
  {
   "cell_type": "code",
   "execution_count": 185,
   "metadata": {},
   "outputs": [
    {
     "name": "stdout",
     "output_type": "stream",
     "text": [
      "dict_values([11, 'bbb', '2.3', 1234])\n",
      "[11, 'bbb', '2.3', 1234]\n"
     ]
    }
   ],
   "source": [
    "print(mydic.values()) # value 알려줘\n",
    "print(list(mydic.values())) #value 만 list로 출력할 때 "
   ]
  },
  {
   "cell_type": "code",
   "execution_count": 195,
   "metadata": {},
   "outputs": [
    {
     "name": "stdout",
     "output_type": "stream",
     "text": [
      "dict_items([('george', 16), ('amber', 19)])\n",
      "george\n"
     ]
    }
   ],
   "source": [
    "agefind = {'george':16,'amber':19} #특정 value에 해당하는 key를 몽땅 찾고 싶을 떄는? \n",
    "\n",
    "print(agefind.items())\n",
    "for name, age in agefind.items(): \n",
    "    if age == 16 :\n",
    "        print(name)\n"
   ]
  },
  {
   "cell_type": "code",
   "execution_count": 1,
   "metadata": {},
   "outputs": [
    {
     "name": "stdout",
     "output_type": "stream",
     "text": [
      "range(1, 12)\n",
      "[1, 2, 3, 4, 5, 6, 7, 8, 9, 10, 11]\n",
      "[0, 3, 6, 9]\n"
     ]
    }
   ],
   "source": [
    "a = range(1,12) # 범위지정: 1부터 12까지\n",
    "print(a)\n",
    "print(list(a))\n",
    "\n",
    "b = range(0,11,3) # 0부터 11까지 3씩 커지면서-\n",
    "print(list(b))\n",
    "\n"
   ]
  },
  {
   "cell_type": "code",
   "execution_count": null,
   "metadata": {},
   "outputs": [],
   "source": []
  }
 ],
 "metadata": {
  "kernelspec": {
   "display_name": "Python 3",
   "language": "python",
   "name": "python3"
  },
  "language_info": {
   "codemirror_mode": {
    "name": "ipython",
    "version": 3
   },
   "file_extension": ".py",
   "mimetype": "text/x-python",
   "name": "python",
   "nbconvert_exporter": "python",
   "pygments_lexer": "ipython3",
   "version": "3.6.4"
  }
 },
 "nbformat": 4,
 "nbformat_minor": 2
}
