{
 "cells": [
  {
   "cell_type": "markdown",
   "metadata": {},
   "source": [
    "# Basic Pyhon\n",
    "## 2. Regular expression"
   ]
  },
  {
   "cell_type": "markdown",
   "metadata": {},
   "source": [
    "## * : 0회 이상 반복\n",
    "## + : 1회 이상 반복\n",
    "## ? : 0회 혹은 1회\n",
    "## m : m회 반복\n",
    "## {m,n} : m회부터 n회까지 반복\n"
   ]
  },
  {
   "cell_type": "code",
   "execution_count": 20,
   "metadata": {},
   "outputs": [
    {
     "data": {
      "text/plain": [
       "['air']"
      ]
     },
     "execution_count": 20,
     "metadata": {},
     "output_type": "execute_result"
    }
   ],
   "source": [
    "import re\n",
    "\n",
    "sentence = '1234 abcde 가나다라 ABC_ 555_6 air air'\n",
    "\n",
    "re.findall(r'1234', sentence)\n",
    "re.findall(r'_', sentence)\n",
    "re.findall(r'[0-9]', sentence)\n",
    "re.findall(r'[0-9]+', sentence)\n",
    "re.findall(r'[0-9]{2}', sentence)\n",
    "re.findall(r'[0-9]{2,3}', sentence)\n",
    "\n",
    "re.findall(r'.bc',sentence)\n",
    "re.findall(r'^1+',sentence)\n",
    "re.findall(r'a...',sentence)\n",
    "re.findall(r'..r$',sentence)\n",
    "\n"
   ]
  },
  {
   "cell_type": "markdown",
   "metadata": {},
   "source": [
    "## . : 줄바꿈을 제외 한 모든 문자와 매치\n",
    "## ^ : 문자열의 시작과 매치\n",
    "## $ : 문자열의 마지막과 매치\n",
    "## [] : 문자 집합 중 한 문자를 의미\n",
    "## | : 또는(or) 을 의미\n",
    "## {} : 정규식을 그룹으로 묶음"
   ]
  },
  {
   "cell_type": "code",
   "execution_count": null,
   "metadata": {},
   "outputs": [],
   "source": []
  },
  {
   "cell_type": "markdown",
   "metadata": {},
   "source": [
    "## \\d : 모든 숫자 [0-9]\n",
    "## \\D : 숫자가 아닌 문자 [^0-9]\n",
    "## \\w : 숫자 또는 문자 [a-zA-Z0-9]\n",
    "## \\W : 숫자 또는 문자가 아닌 것 [^a-zA-Z0-9]\n"
   ]
  },
  {
   "cell_type": "code",
   "execution_count": null,
   "metadata": {},
   "outputs": [],
   "source": [
    "# match, search, split, findall, sub, escape, group, start, end, string"
   ]
  }
 ],
 "metadata": {
  "kernelspec": {
   "display_name": "Python 3",
   "language": "python",
   "name": "python3"
  },
  "language_info": {
   "codemirror_mode": {
    "name": "ipython",
    "version": 3
   },
   "file_extension": ".py",
   "mimetype": "text/x-python",
   "name": "python",
   "nbconvert_exporter": "python",
   "pygments_lexer": "ipython3",
   "version": "3.6.4"
  }
 },
 "nbformat": 4,
 "nbformat_minor": 2
}
