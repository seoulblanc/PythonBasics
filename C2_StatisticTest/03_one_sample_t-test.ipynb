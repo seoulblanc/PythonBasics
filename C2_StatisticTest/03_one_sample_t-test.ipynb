{
 "cells": [
  {
   "cell_type": "markdown",
   "metadata": {},
   "source": [
    "## 일표본 평균(수치) 차이분석 ==> t.test"
   ]
  },
  {
   "cell_type": "code",
   "execution_count": 1,
   "metadata": {},
   "outputs": [],
   "source": [
    "# -*- coding: utf-8 -*-\n",
    "#컨벤션\n",
    "%matplotlib inline\n",
    "from pandas import DataFrame, Series\n",
    "import pandas as pd\n",
    "import matplotlib.pyplot as plt\n",
    "import numpy as np\n",
    "from scipy import stats\n",
    "import statsmodels\n",
    "import math"
   ]
  },
  {
   "cell_type": "code",
   "execution_count": 2,
   "metadata": {},
   "outputs": [],
   "source": [
    "#skipinitialspace 컬럼의 빈칸 없애고 전체 자료 읽어 들이기\n",
    "my_df = pd.read_csv('coupon.csv', skipinitialspace=True)"
   ]
  },
  {
   "cell_type": "code",
   "execution_count": 3,
   "metadata": {},
   "outputs": [
    {
     "name": "stdout",
     "output_type": "stream",
     "text": [
      "   no  type  category   amount  week\n",
      "0   1     1       4.0  99300.0   1.0\n",
      "1   2     1       2.0  98300.0   1.0\n",
      "2   4     2       NaN      NaN   NaN\n",
      "3   6     1       NaN      NaN   NaN\n",
      "4   9     2       NaN      NaN   NaN\n",
      "      no  type  category    amount  week\n",
      "196  295     2       NaN       NaN   NaN\n",
      "197  296     2       NaN       NaN   NaN\n",
      "198  298     2       NaN       NaN   NaN\n",
      "199  299     2       4.0  152400.0   1.0\n",
      "200  300     2       1.0   37600.0   0.0\n",
      "<class 'pandas.core.frame.DataFrame'>\n",
      "RangeIndex: 201 entries, 0 to 200\n",
      "Data columns (total 5 columns):\n",
      "no          201 non-null int64\n",
      "type        201 non-null int64\n",
      "category    117 non-null float64\n",
      "amount      117 non-null float64\n",
      "week        117 non-null float64\n",
      "dtypes: float64(3), int64(2)\n",
      "memory usage: 7.9 KB\n",
      "None\n",
      "               no        type    category         amount        week\n",
      "count  201.000000  201.000000  117.000000     117.000000  117.000000\n",
      "mean   149.323383    1.437811    2.495726   86906.837607    0.555556\n",
      "std     87.036429    0.497356    1.118989   39082.919645    0.499041\n",
      "min      1.000000    1.000000    1.000000   18500.000000    0.000000\n",
      "25%     74.000000    1.000000    2.000000   63000.000000    0.000000\n",
      "50%    149.000000    1.000000    2.000000   82400.000000    1.000000\n",
      "75%    224.000000    2.000000    3.000000  107000.000000    1.000000\n",
      "max    300.000000    2.000000    4.000000  187400.000000    1.000000\n"
     ]
    }
   ],
   "source": [
    "#변수 확인\n",
    "print(my_df.head())\n",
    "print(my_df.tail())\n",
    "print(my_df.info())\n",
    "print(my_df.describe())"
   ]
  },
  {
   "cell_type": "code",
   "execution_count": 4,
   "metadata": {},
   "outputs": [
    {
     "data": {
      "text/plain": [
       "False    117\n",
       "True      84\n",
       "Name: amount, dtype: int64"
      ]
     },
     "execution_count": 4,
     "metadata": {},
     "output_type": "execute_result"
    }
   ],
   "source": [
    "#서브셋 데이터 생성\n",
    "np.isnan(my_df.amount).value_counts(normalize=False, sort=False)"
   ]
  },
  {
   "cell_type": "code",
   "execution_count": 5,
   "metadata": {},
   "outputs": [
    {
     "data": {
      "text/html": [
       "<div>\n",
       "<style scoped>\n",
       "    .dataframe tbody tr th:only-of-type {\n",
       "        vertical-align: middle;\n",
       "    }\n",
       "\n",
       "    .dataframe tbody tr th {\n",
       "        vertical-align: top;\n",
       "    }\n",
       "\n",
       "    .dataframe thead th {\n",
       "        text-align: right;\n",
       "    }\n",
       "</style>\n",
       "<table border=\"1\" class=\"dataframe\">\n",
       "  <thead>\n",
       "    <tr style=\"text-align: right;\">\n",
       "      <th></th>\n",
       "      <th>no</th>\n",
       "      <th>type</th>\n",
       "      <th>category</th>\n",
       "      <th>amount</th>\n",
       "      <th>week</th>\n",
       "    </tr>\n",
       "  </thead>\n",
       "  <tbody>\n",
       "    <tr>\n",
       "      <th>0</th>\n",
       "      <td>1</td>\n",
       "      <td>1</td>\n",
       "      <td>4.0</td>\n",
       "      <td>99300.0</td>\n",
       "      <td>1.0</td>\n",
       "    </tr>\n",
       "    <tr>\n",
       "      <th>1</th>\n",
       "      <td>2</td>\n",
       "      <td>1</td>\n",
       "      <td>2.0</td>\n",
       "      <td>98300.0</td>\n",
       "      <td>1.0</td>\n",
       "    </tr>\n",
       "    <tr>\n",
       "      <th>5</th>\n",
       "      <td>10</td>\n",
       "      <td>2</td>\n",
       "      <td>3.0</td>\n",
       "      <td>40900.0</td>\n",
       "      <td>0.0</td>\n",
       "    </tr>\n",
       "    <tr>\n",
       "      <th>6</th>\n",
       "      <td>11</td>\n",
       "      <td>1</td>\n",
       "      <td>3.0</td>\n",
       "      <td>76400.0</td>\n",
       "      <td>1.0</td>\n",
       "    </tr>\n",
       "    <tr>\n",
       "      <th>7</th>\n",
       "      <td>13</td>\n",
       "      <td>1</td>\n",
       "      <td>2.0</td>\n",
       "      <td>83800.0</td>\n",
       "      <td>1.0</td>\n",
       "    </tr>\n",
       "  </tbody>\n",
       "</table>\n",
       "</div>"
      ],
      "text/plain": [
       "   no  type  category   amount  week\n",
       "0   1     1       4.0  99300.0   1.0\n",
       "1   2     1       2.0  98300.0   1.0\n",
       "5  10     2       3.0  40900.0   0.0\n",
       "6  11     1       3.0  76400.0   1.0\n",
       "7  13     1       2.0  83800.0   1.0"
      ]
     },
     "execution_count": 5,
     "metadata": {},
     "output_type": "execute_result"
    }
   ],
   "source": [
    "sb_df = my_df[my_df.amount.notnull()]\n",
    "sb_df.head()"
   ]
  },
  {
   "cell_type": "code",
   "execution_count": 6,
   "metadata": {},
   "outputs": [
    {
     "data": {
      "text/plain": [
       "(array([11.,  8., 21., 24., 18., 13.,  6.,  7.,  5.,  4.]),\n",
       " array([ 18500.,  35390.,  52280.,  69170.,  86060., 102950., 119840.,\n",
       "        136730., 153620., 170510., 187400.]),\n",
       " <a list of 10 Patch objects>)"
      ]
     },
     "execution_count": 6,
     "metadata": {},
     "output_type": "execute_result"
    },
    {
     "data": {
      "image/png": "[encoded data removed]",
      "text/plain": [
       "<Figure size 432x288 with 1 Axes>"
      ]
     },
     "metadata": {},
     "output_type": "display_data"
    }
   ],
   "source": [
    "#정규성 검토\n",
    "plt.figure(0)\n",
    "plt.hist(sb_df.amount, bins=10)"
   ]
  },
  {
   "cell_type": "code",
   "execution_count": 7,
   "metadata": {},
   "outputs": [
    {
     "data": {
      "text/plain": [
       "0.49569368445737744"
      ]
     },
     "execution_count": 7,
     "metadata": {},
     "output_type": "execute_result"
    }
   ],
   "source": [
    "stats.skew(sb_df.amount)"
   ]
  },
  {
   "cell_type": "code",
   "execution_count": 8,
   "metadata": {},
   "outputs": [
    {
     "data": {
      "text/plain": [
       "(0.9684169888496399, 0.007360493764281273)"
      ]
     },
     "execution_count": 8,
     "metadata": {},
     "output_type": "execute_result"
    }
   ],
   "source": [
    "#stats.kstest(sb_df.amount, 'norm')\n",
    "stats.shapiro(sb_df.amount)"
   ]
  },
  {
   "cell_type": "code",
   "execution_count": 9,
   "metadata": {},
   "outputs": [
    {
     "data": {
      "text/plain": [
       "[11.505900850033264,\n",
       " 11.495779306135258,\n",
       " 10.618885342030893,\n",
       " 11.243737975154612,\n",
       " 11.336188286470174,\n",
       " 11.951180395901384,\n",
       " 11.540540632003202,\n",
       " 11.37366339763672,\n",
       " 10.973357372338583,\n",
       " 11.205040685200927,\n",
       " 11.388495386592052,\n",
       " 10.742897240074326,\n",
       " 11.020267145159687,\n",
       " 12.14100064878646,\n",
       " 11.390757830996021,\n",
       " 11.45741275503997,\n",
       " 11.89886790658953,\n",
       " 11.712595660098795,\n",
       " 11.319340715897564,\n",
       " 11.701063407085623,\n",
       " 11.854385243102481,\n",
       " 12.028141437037512,\n",
       " 11.580584113444043,\n",
       " 11.687718755343392,\n",
       " 10.675907913990581,\n",
       " 11.085214747914744,\n",
       " 10.927735425915376,\n",
       " 9.862665558015873,\n",
       " 11.32418334037335,\n",
       " 11.069758489678053,\n",
       " 11.007087382715277,\n",
       " 11.061939841560255,\n",
       " 11.582451527618838,\n",
       " 9.93788897925346,\n",
       " 11.144756141605761,\n",
       " 10.364071959865372,\n",
       " 11.842948377911535,\n",
       " 11.540540632003202,\n",
       " 10.494048144320972,\n",
       " 11.571194373094205,\n",
       " 11.923046384614587,\n",
       " 10.902279505922026,\n",
       " 11.05089000537367,\n",
       " 11.195471234184778,\n",
       " 10.74073507706983,\n",
       " 10.680516217076775,\n",
       " 11.643076149435274,\n",
       " 11.54925739421762,\n",
       " 11.166200851884664,\n",
       " 11.786001385032646,\n",
       " 12.072541252905651,\n",
       " 11.072868912092446,\n",
       " 11.536641991587544,\n",
       " 9.93788897925346,\n",
       " 11.25932270617131,\n",
       " 11.33976184596104,\n",
       " 11.36558487707152,\n",
       " 10.395130356885344,\n",
       " 11.951180395901384,\n",
       " 11.188579408146856,\n",
       " 11.169025712520218,\n",
       " 10.920528187510426,\n",
       " 11.08367982819666,\n",
       " 11.22390916950531,\n",
       " 11.26446410567173,\n",
       " 9.825526011066415,\n",
       " 11.226575837752225,\n",
       " 12.066810578196666,\n",
       " 11.680979049966478,\n",
       " 10.993731591533722,\n",
       " 10.698739956033227,\n",
       " 11.08367982819666,\n",
       " 11.250261155493735,\n",
       " 12.041787451222318,\n",
       " 11.08367982819666,\n",
       " 11.246352355728682,\n",
       " 11.649203083262776,\n",
       " 11.53076538309856,\n",
       " 11.26318123185884,\n",
       " 11.766792188927278,\n",
       " 11.568360171858329,\n",
       " 11.294769455167058,\n",
       " 11.396391648714276,\n",
       " 10.360912399575003,\n",
       " 11.092854204472703,\n",
       " 10.043249494911286,\n",
       " 11.570250531589497,\n",
       " 10.177324218165856,\n",
       " 11.421906066583059,\n",
       " 11.760566487884825,\n",
       " 11.568360171858329,\n",
       " 11.16761427968181,\n",
       " 11.611865412825132,\n",
       " 11.01369897704759,\n",
       " 11.387362241994882,\n",
       " 11.48246625748552,\n",
       " 11.887243844081556,\n",
       " 10.239959789157341,\n",
       " 11.44571671527678,\n",
       " 12.016122061571728,\n",
       " 11.370209162768633,\n",
       " 11.607326140391713,\n",
       " 11.052476048529304,\n",
       " 11.360939107972346,\n",
       " 10.916904995141007,\n",
       " 10.325481962595504,\n",
       " 11.314474526246391,\n",
       " 11.358608104585871,\n",
       " 12.051755285145816,\n",
       " 11.71831229469518,\n",
       " 11.071314910225711,\n",
       " 11.147642146494896,\n",
       " 11.844385159767898,\n",
       " 11.03811027872727,\n",
       " 11.421906066583059,\n",
       " 11.934263922234683,\n",
       " 10.534759329377986]"
      ]
     },
     "execution_count": 9,
     "metadata": {},
     "output_type": "execute_result"
    }
   ],
   "source": [
    "#정규화 처리\n",
    "sb_df_ln = [math.log(x) for x in sb_df.amount]\n",
    "sb_df_ln"
   ]
  },
  {
   "cell_type": "code",
   "execution_count": 10,
   "metadata": {},
   "outputs": [
    {
     "data": {
      "text/plain": [
       "(array([ 5.,  2.,  5.,  7.,  5., 24., 26., 19., 13., 11.]),\n",
       " array([ 9.82552601, 10.05707347, 10.28862094, 10.5201684 , 10.75171587,\n",
       "        10.98326333, 11.21481079, 11.44635826, 11.67790572, 11.90945319,\n",
       "        12.14100065]),\n",
       " <a list of 10 Patch objects>)"
      ]
     },
     "execution_count": 10,
     "metadata": {},
     "output_type": "execute_result"
    },
    {
     "data": {
      "image/png": "[encoded data removed]",
      "text/plain": [
       "<Figure size 432x288 with 1 Axes>"
      ]
     },
     "metadata": {},
     "output_type": "display_data"
    }
   ],
   "source": [
    "#정규성 확인\n",
    "plt.figure(1)\n",
    "plt.hist(sb_df_ln, bins=10)"
   ]
  },
  {
   "cell_type": "code",
   "execution_count": 11,
   "metadata": {},
   "outputs": [
    {
     "data": {
      "text/plain": [
       "-0.7614508853170815"
      ]
     },
     "execution_count": 11,
     "metadata": {},
     "output_type": "execute_result"
    }
   ],
   "source": [
    "stats.skew(sb_df_ln)"
   ]
  },
  {
   "cell_type": "code",
   "execution_count": 12,
   "metadata": {},
   "outputs": [
    {
     "data": {
      "text/plain": [
       "(0.9507076144218445, 0.00029612972866743803)"
      ]
     },
     "execution_count": 12,
     "metadata": {},
     "output_type": "execute_result"
    }
   ],
   "source": [
    "#stats.kstest(sb_df_ln, 'norm')\n",
    "stats.shapiro(sb_df_ln)"
   ]
  },
  {
   "cell_type": "code",
   "execution_count": 14,
   "metadata": {},
   "outputs": [
    {
     "name": "stdout",
     "output_type": "stream",
     "text": [
      "원자료 일때: t-value = 6.893, p-value = 0.000\n",
      "\n",
      "로그정규화 일때: t-value = -1303771.165, p-value = 0.000\n"
     ]
    }
   ],
   "source": [
    "#일표본 평균차이 검정\n",
    "x = stats.ttest_1samp(sb_df.amount, 62000)\n",
    "print(\"원자료 일때: t-value = %4.3f, p-value = %4.3f\\n\" % (x.statistic, x.pvalue))\n",
    "\n",
    "y = stats.ttest_1samp(sb_df_ln, 62000)\n",
    "print(\"로그정규화 일때: t-value = %4.3f, p-value = %4.3f\" % (y.statistic, y.pvalue))"
   ]
  },
  {
   "cell_type": "markdown",
   "metadata": {
    "collapsed": true
   },
   "source": [
    "## end of documents"
   ]
  },
  {
   "cell_type": "code",
   "execution_count": null,
   "metadata": {},
   "outputs": [],
   "source": []
  }
 ],
 "metadata": {
  "anaconda-cloud": {},
  "kernelspec": {
   "display_name": "Python 3",
   "language": "python",
   "name": "python3"
  },
  "language_info": {
   "codemirror_mode": {
    "name": "ipython",
    "version": 3
   },
   "file_extension": ".py",
   "mimetype": "text/x-python",
   "name": "python",
   "nbconvert_exporter": "python",
   "pygments_lexer": "ipython3",
   "version": "3.6.5"
  }
 },
 "nbformat": 4,
 "nbformat_minor": 1
}
