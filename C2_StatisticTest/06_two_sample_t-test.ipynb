{
 "cells": [
  {
   "cell_type": "markdown",
   "metadata": {},
   "source": [
    "## 2표본 평균(수치) 차이분석 ==> t.test"
   ]
  },
  {
   "cell_type": "code",
   "execution_count": 1,
   "metadata": {},
   "outputs": [],
   "source": [
    "# -*- coding: utf-8 -*-\n",
    "#컨벤션\n",
    "%matplotlib inline\n",
    "from pandas import DataFrame, Series\n",
    "import pandas as pd\n",
    "import matplotlib.pyplot as plt\n",
    "import numpy as np\n",
    "from scipy import stats\n",
    "import statsmodels\n",
    "import math"
   ]
  },
  {
   "cell_type": "code",
   "execution_count": 2,
   "metadata": {},
   "outputs": [],
   "source": [
    "#skipinitialspace 컬럼의 빈칸 없애고 전체 자료 읽어 들이기\n",
    "my_df = pd.read_csv('coupon.csv', skipinitialspace=True)"
   ]
  },
  {
   "cell_type": "code",
   "execution_count": 3,
   "metadata": {},
   "outputs": [
    {
     "name": "stdout",
     "output_type": "stream",
     "text": [
      "   no  type  category   amount  week\n",
      "0   1     1       4.0  99300.0   1.0\n",
      "1   2     1       2.0  98300.0   1.0\n",
      "2   4     2       NaN      NaN   NaN\n",
      "3   6     1       NaN      NaN   NaN\n",
      "4   9     2       NaN      NaN   NaN\n",
      "      no  type  category    amount  week\n",
      "196  295     2       NaN       NaN   NaN\n",
      "197  296     2       NaN       NaN   NaN\n",
      "198  298     2       NaN       NaN   NaN\n",
      "199  299     2       4.0  152400.0   1.0\n",
      "200  300     2       1.0   37600.0   0.0\n",
      "<class 'pandas.core.frame.DataFrame'>\n",
      "RangeIndex: 201 entries, 0 to 200\n",
      "Data columns (total 5 columns):\n",
      "no          201 non-null int64\n",
      "type        201 non-null int64\n",
      "category    117 non-null float64\n",
      "amount      117 non-null float64\n",
      "week        117 non-null float64\n",
      "dtypes: float64(3), int64(2)\n",
      "memory usage: 7.9 KB\n",
      "None\n",
      "               no        type    category         amount        week\n",
      "count  201.000000  201.000000  117.000000     117.000000  117.000000\n",
      "mean   149.323383    1.437811    2.495726   86906.837607    0.555556\n",
      "std     87.036429    0.497356    1.118989   39082.919645    0.499041\n",
      "min      1.000000    1.000000    1.000000   18500.000000    0.000000\n",
      "25%     74.000000    1.000000    2.000000   63000.000000    0.000000\n",
      "50%    149.000000    1.000000    2.000000   82400.000000    1.000000\n",
      "75%    224.000000    2.000000    3.000000  107000.000000    1.000000\n",
      "max    300.000000    2.000000    4.000000  187400.000000    1.000000\n"
     ]
    }
   ],
   "source": [
    "#변수 확인\n",
    "print(my_df.head())\n",
    "print(my_df.tail())\n",
    "print(my_df.info())\n",
    "print(my_df.describe())"
   ]
  },
  {
   "cell_type": "code",
   "execution_count": 4,
   "metadata": {},
   "outputs": [
    {
     "data": {
      "text/plain": [
       "False    117\n",
       "True      84\n",
       "Name: amount, dtype: int64"
      ]
     },
     "execution_count": 4,
     "metadata": {},
     "output_type": "execute_result"
    }
   ],
   "source": [
    "#서브셋 데이터 생성\n",
    "np.isnan(my_df.amount).value_counts(normalize=False, sort=False)"
   ]
  },
  {
   "cell_type": "code",
   "execution_count": 5,
   "metadata": {},
   "outputs": [
    {
     "data": {
      "text/html": [
       "<div>\n",
       "<style scoped>\n",
       "    .dataframe tbody tr th:only-of-type {\n",
       "        vertical-align: middle;\n",
       "    }\n",
       "\n",
       "    .dataframe tbody tr th {\n",
       "        vertical-align: top;\n",
       "    }\n",
       "\n",
       "    .dataframe thead th {\n",
       "        text-align: right;\n",
       "    }\n",
       "</style>\n",
       "<table border=\"1\" class=\"dataframe\">\n",
       "  <thead>\n",
       "    <tr style=\"text-align: right;\">\n",
       "      <th></th>\n",
       "      <th>no</th>\n",
       "      <th>type</th>\n",
       "      <th>category</th>\n",
       "      <th>amount</th>\n",
       "      <th>week</th>\n",
       "    </tr>\n",
       "  </thead>\n",
       "  <tbody>\n",
       "    <tr>\n",
       "      <th>0</th>\n",
       "      <td>1</td>\n",
       "      <td>1</td>\n",
       "      <td>4.0</td>\n",
       "      <td>99300.0</td>\n",
       "      <td>1.0</td>\n",
       "    </tr>\n",
       "    <tr>\n",
       "      <th>1</th>\n",
       "      <td>2</td>\n",
       "      <td>1</td>\n",
       "      <td>2.0</td>\n",
       "      <td>98300.0</td>\n",
       "      <td>1.0</td>\n",
       "    </tr>\n",
       "    <tr>\n",
       "      <th>5</th>\n",
       "      <td>10</td>\n",
       "      <td>2</td>\n",
       "      <td>3.0</td>\n",
       "      <td>40900.0</td>\n",
       "      <td>0.0</td>\n",
       "    </tr>\n",
       "    <tr>\n",
       "      <th>6</th>\n",
       "      <td>11</td>\n",
       "      <td>1</td>\n",
       "      <td>3.0</td>\n",
       "      <td>76400.0</td>\n",
       "      <td>1.0</td>\n",
       "    </tr>\n",
       "    <tr>\n",
       "      <th>7</th>\n",
       "      <td>13</td>\n",
       "      <td>1</td>\n",
       "      <td>2.0</td>\n",
       "      <td>83800.0</td>\n",
       "      <td>1.0</td>\n",
       "    </tr>\n",
       "  </tbody>\n",
       "</table>\n",
       "</div>"
      ],
      "text/plain": [
       "   no  type  category   amount  week\n",
       "0   1     1       4.0  99300.0   1.0\n",
       "1   2     1       2.0  98300.0   1.0\n",
       "5  10     2       3.0  40900.0   0.0\n",
       "6  11     1       3.0  76400.0   1.0\n",
       "7  13     1       2.0  83800.0   1.0"
      ]
     },
     "execution_count": 5,
     "metadata": {},
     "output_type": "execute_result"
    }
   ],
   "source": [
    "sb_df = my_df[my_df.amount.notnull()]\n",
    "sb_df.head()"
   ]
  },
  {
   "cell_type": "code",
   "execution_count": 6,
   "metadata": {},
   "outputs": [
    {
     "data": {
      "text/plain": [
       "<matplotlib.axes._subplots.AxesSubplot at 0x98d2f98>"
      ]
     },
     "execution_count": 6,
     "metadata": {},
     "output_type": "execute_result"
    },
    {
     "data": {
      "image/png": "[encoded data removed]",
      "text/plain": [
       "<Figure size 432x288 with 1 Axes>"
      ]
     },
     "metadata": {},
     "output_type": "display_data"
    }
   ],
   "source": [
    "#타입별 사용금액 상자그림\n",
    "sb_df.iloc[:, [1, 3]].boxplot(by='type', showmeans=True)"
   ]
  },
  {
   "cell_type": "code",
   "execution_count": 7,
   "metadata": {},
   "outputs": [
    {
     "data": {
      "text/plain": [
       "type\n",
       "1    91852.631579\n",
       "2    77739.024390\n",
       "Name: amount, dtype: float64"
      ]
     },
     "execution_count": 7,
     "metadata": {},
     "output_type": "execute_result"
    }
   ],
   "source": [
    "#타입별 평균\n",
    "sb_df.amount.groupby(sb_df.type).mean()"
   ]
  },
  {
   "cell_type": "code",
   "execution_count": 10,
   "metadata": {},
   "outputs": [
    {
     "data": {
      "text/plain": [
       "(0.8952113389968872, 1.2272897947696038e-05)"
      ]
     },
     "execution_count": 10,
     "metadata": {},
     "output_type": "execute_result"
    },
    {
     "data": {
      "image/png": "[encoded data removed]",
      "text/plain": [
       "<Figure size 432x288 with 1 Axes>"
      ]
     },
     "metadata": {},
     "output_type": "display_data"
    }
   ],
   "source": [
    "#타입별 금액 추출\n",
    "data_t1 = sb_df['amount'][sb_df.type == 1] # my_df[my_df.type == 1].ix[:, ['type','amount']]\n",
    "plt.figure(1)\n",
    "plt.hist(data_t1, bins=10)\n",
    "stats.skew(data_t1)\n",
    "stats.shapiro(data_t1)"
   ]
  },
  {
   "cell_type": "code",
   "execution_count": 11,
   "metadata": {},
   "outputs": [
    {
     "data": {
      "text/plain": [
       "(0.91924649477005, 0.006454612594097853)"
      ]
     },
     "execution_count": 11,
     "metadata": {},
     "output_type": "execute_result"
    },
    {
     "data": {
      "image/png": "[encoded data removed]",
      "text/plain": [
       "<Figure size 432x288 with 1 Axes>"
      ]
     },
     "metadata": {},
     "output_type": "display_data"
    }
   ],
   "source": [
    "plt.figure(2)\n",
    "data_t2 = sb_df['amount'][sb_df.type == 2]\n",
    "plt.hist(data_t2, bins=10)\n",
    "stats.skew(data_t2)\n",
    "stats.shapiro(data_t2)"
   ]
  },
  {
   "cell_type": "code",
   "execution_count": 15,
   "metadata": {},
   "outputs": [
    {
     "data": {
      "text/plain": [
       "(0.9679037928581238, 0.05114143341779709)"
      ]
     },
     "execution_count": 15,
     "metadata": {},
     "output_type": "execute_result"
    },
    {
     "data": {
      "image/png": "[encoded data removed]",
      "text/plain": [
       "<Figure size 432x288 with 1 Axes>"
      ]
     },
     "metadata": {},
     "output_type": "display_data"
    }
   ],
   "source": [
    "data_t2_ln = [math.log(x,10) for x in data_t1]\n",
    "plt.figure(3)\n",
    "plt.hist(data_t2_ln, bins=10)\n",
    "stats.skew(data_t2_ln)\n",
    "stats.shapiro(data_t2_ln)"
   ]
  },
  {
   "cell_type": "code",
   "execution_count": 16,
   "metadata": {},
   "outputs": [
    {
     "data": {
      "text/plain": [
       "(0.9199904203414917, 0.006817109417170286)"
      ]
     },
     "execution_count": 16,
     "metadata": {},
     "output_type": "execute_result"
    },
    {
     "data": {
      "image/png": "[encoded data removed]",
      "text/plain": [
       "<Figure size 432x288 with 1 Axes>"
      ]
     },
     "metadata": {},
     "output_type": "display_data"
    }
   ],
   "source": [
    "data_t2_ln = [math.log(x,10) for x in data_t2]\n",
    "plt.figure(4)\n",
    "plt.hist(data_t2_ln, bins=10)\n",
    "stats.skew(data_t2_ln)\n",
    "stats.shapiro(data_t2_ln)"
   ]
  },
  {
   "cell_type": "code",
   "execution_count": 18,
   "metadata": {},
   "outputs": [
    {
     "data": {
      "text/plain": [
       "1    76\n",
       "2    41\n",
       "Name: type, dtype: int64"
      ]
     },
     "execution_count": 18,
     "metadata": {},
     "output_type": "execute_result"
    }
   ],
   "source": [
    "#쿠폰유형 변수 빈도분석\n",
    "sb_df.type.value_counts(normalize=False, sort=False)"
   ]
  },
  {
   "cell_type": "code",
   "execution_count": 17,
   "metadata": {},
   "outputs": [
    {
     "data": {
      "text/plain": [
       "1    0.649573\n",
       "2    0.350427\n",
       "Name: type, dtype: float64"
      ]
     },
     "execution_count": 17,
     "metadata": {},
     "output_type": "execute_result"
    }
   ],
   "source": [
    "sb_df.type.value_counts(normalize=True, sort=False)"
   ]
  },
  {
   "cell_type": "code",
   "execution_count": 18,
   "metadata": {},
   "outputs": [],
   "source": [
    "#레이블 선언\n",
    "type_lables = {1: 'discount', 2: 'mileage'}"
   ]
  },
  {
   "cell_type": "code",
   "execution_count": 19,
   "metadata": {},
   "outputs": [
    {
     "name": "stdout",
     "output_type": "stream",
     "text": [
      "LeveneResult(statistic=8.957483313563461, pvalue=0.0033828126506450285)\n"
     ]
    }
   ],
   "source": [
    "#분산의 동질성 검정\n",
    "result1 = stats.levene(data_t1, data_t2)\n",
    "print(result1)"
   ]
  },
  {
   "cell_type": "code",
   "execution_count": 19,
   "metadata": {},
   "outputs": [
    {
     "name": "stdout",
     "output_type": "stream",
     "text": [
      "Ttest_indResult(statistic=1.722890150619176, pvalue=0.08973818521404456)\n"
     ]
    }
   ],
   "source": [
    "#두모집단 평균차이 검정\n",
    "result2 = stats.ttest_ind(data_t1, data_t2, equal_var = False )\n",
    "print(result2)"
   ]
  },
  {
   "cell_type": "markdown",
   "metadata": {
    "collapsed": true
   },
   "source": [
    "## end of documents"
   ]
  }
 ],
 "metadata": {
  "anaconda-cloud": {},
  "kernelspec": {
   "display_name": "Python 3",
   "language": "python",
   "name": "python3"
  },
  "language_info": {
   "codemirror_mode": {
    "name": "ipython",
    "version": 3
   },
   "file_extension": ".py",
   "mimetype": "text/x-python",
   "name": "python",
   "nbconvert_exporter": "python",
   "pygments_lexer": "ipython3",
   "version": "3.6.5"
  }
 },
 "nbformat": 4,
 "nbformat_minor": 1
}
