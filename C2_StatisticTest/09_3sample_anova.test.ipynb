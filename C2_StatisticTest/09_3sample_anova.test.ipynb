{
 "cells": [
  {
   "cell_type": "markdown",
   "metadata": {},
   "source": [
    "## 3표본 평균(분산, 수치) 차이분석 ==> ANOVA(Analysis of Variance) test"
   ]
  },
  {
   "cell_type": "code",
   "execution_count": 13,
   "metadata": {},
   "outputs": [],
   "source": [
    "# -*- coding: utf-8 -*-\n",
    "#import 컨벤션\n",
    "%matplotlib inline\n",
    "from pandas import DataFrame, Series\n",
    "import pandas as pd\n",
    "import matplotlib.pyplot\n",
    "from matplotlib import pyplot\n",
    "import numpy as np\n",
    "from scipy import stats\n",
    "import statsmodels.api as sm\n",
    "import math"
   ]
  },
  {
   "cell_type": "code",
   "execution_count": 14,
   "metadata": {},
   "outputs": [],
   "source": [
    "#import spm1d\n",
    "#import rft1d\n",
    "from statsmodels.formula.api import ols\n",
    "from statsmodels.graphics.api import interaction_plot, abline_plot\n",
    "from statsmodels.stats.anova import anova_lm"
   ]
  },
  {
   "cell_type": "code",
   "execution_count": 15,
   "metadata": {},
   "outputs": [],
   "source": [
    "#skipinitialspace 컬럼의 빈칸 없애고 전체 자료 읽어 들이기\n",
    "my_df = pd.read_csv('coupon2.csv', skipinitialspace=True)"
   ]
  },
  {
   "cell_type": "code",
   "execution_count": 16,
   "metadata": {},
   "outputs": [
    {
     "name": "stdout",
     "output_type": "stream",
     "text": [
      "    no  type  category    amount  week\n",
      "0   42     1       1.0  159000.0   1.0\n",
      "1  194     1       1.0  154000.0   1.0\n",
      "2  180     1       1.0  135000.0   1.0\n",
      "3   47     1       1.0  128000.0   1.0\n",
      "4  207     1       2.0  129000.0   1.0\n",
      "      no  type  category  amount  week\n",
      "295  285     3       NaN     NaN   NaN\n",
      "296  286     3       NaN     NaN   NaN\n",
      "297  292     3       NaN     NaN   NaN\n",
      "298  293     3       NaN     NaN   NaN\n",
      "299  297     3       NaN     NaN   NaN\n",
      "<class 'pandas.core.frame.DataFrame'>\n",
      "RangeIndex: 300 entries, 0 to 299\n",
      "Data columns (total 5 columns):\n",
      "no          300 non-null int64\n",
      "type        300 non-null int64\n",
      "category    156 non-null float64\n",
      "amount      156 non-null float64\n",
      "week        156 non-null float64\n",
      "dtypes: float64(3), int64(2)\n",
      "memory usage: 11.8 KB\n",
      "None\n",
      "               no        type    category         amount       week\n",
      "count  300.000000  300.000000  156.000000     156.000000  156.00000\n",
      "mean   150.500000    2.073333    2.371795   83358.974359    0.50000\n",
      "std     86.746758    0.814555    1.102595   39859.098402    0.50161\n",
      "min      1.000000    1.000000    1.000000   13000.000000    0.00000\n",
      "25%     75.750000    1.000000    1.000000   58750.000000    0.00000\n",
      "50%    150.500000    2.000000    2.000000   85500.000000    0.50000\n",
      "75%    225.250000    3.000000    3.000000  107750.000000    1.00000\n",
      "max    300.000000    3.000000    4.000000  176000.000000    1.00000\n"
     ]
    }
   ],
   "source": [
    "#변수 확인\n",
    "print(my_df.head())\n",
    "print(my_df.tail())\n",
    "print(my_df.info())\n",
    "print(my_df.describe())"
   ]
  },
  {
   "cell_type": "code",
   "execution_count": 17,
   "metadata": {},
   "outputs": [
    {
     "data": {
      "text/html": [
       "<div>\n",
       "<style scoped>\n",
       "    .dataframe tbody tr th:only-of-type {\n",
       "        vertical-align: middle;\n",
       "    }\n",
       "\n",
       "    .dataframe tbody tr th {\n",
       "        vertical-align: top;\n",
       "    }\n",
       "\n",
       "    .dataframe thead th {\n",
       "        text-align: right;\n",
       "    }\n",
       "</style>\n",
       "<table border=\"1\" class=\"dataframe\">\n",
       "  <thead>\n",
       "    <tr style=\"text-align: right;\">\n",
       "      <th></th>\n",
       "      <th>no</th>\n",
       "      <th>type</th>\n",
       "      <th>category</th>\n",
       "      <th>amount</th>\n",
       "      <th>week</th>\n",
       "    </tr>\n",
       "  </thead>\n",
       "  <tbody>\n",
       "    <tr>\n",
       "      <th>0</th>\n",
       "      <td>42</td>\n",
       "      <td>1</td>\n",
       "      <td>1.0</td>\n",
       "      <td>159000.0</td>\n",
       "      <td>1.0</td>\n",
       "    </tr>\n",
       "    <tr>\n",
       "      <th>1</th>\n",
       "      <td>194</td>\n",
       "      <td>1</td>\n",
       "      <td>1.0</td>\n",
       "      <td>154000.0</td>\n",
       "      <td>1.0</td>\n",
       "    </tr>\n",
       "    <tr>\n",
       "      <th>2</th>\n",
       "      <td>180</td>\n",
       "      <td>1</td>\n",
       "      <td>1.0</td>\n",
       "      <td>135000.0</td>\n",
       "      <td>1.0</td>\n",
       "    </tr>\n",
       "    <tr>\n",
       "      <th>3</th>\n",
       "      <td>47</td>\n",
       "      <td>1</td>\n",
       "      <td>1.0</td>\n",
       "      <td>128000.0</td>\n",
       "      <td>1.0</td>\n",
       "    </tr>\n",
       "    <tr>\n",
       "      <th>4</th>\n",
       "      <td>207</td>\n",
       "      <td>1</td>\n",
       "      <td>2.0</td>\n",
       "      <td>129000.0</td>\n",
       "      <td>1.0</td>\n",
       "    </tr>\n",
       "  </tbody>\n",
       "</table>\n",
       "</div>"
      ],
      "text/plain": [
       "    no  type  category    amount  week\n",
       "0   42     1       1.0  159000.0   1.0\n",
       "1  194     1       1.0  154000.0   1.0\n",
       "2  180     1       1.0  135000.0   1.0\n",
       "3   47     1       1.0  128000.0   1.0\n",
       "4  207     1       2.0  129000.0   1.0"
      ]
     },
     "execution_count": 17,
     "metadata": {},
     "output_type": "execute_result"
    }
   ],
   "source": [
    "#서브셋 데이터 생성\n",
    "np.isnan(my_df.amount).value_counts(normalize=False, sort=False)\n",
    "sb_df = my_df[my_df.amount.notnull()]\n",
    "sb_df.head()"
   ]
  },
  {
   "cell_type": "code",
   "execution_count": 18,
   "metadata": {},
   "outputs": [],
   "source": [
    "#레이블 선언\n",
    "type_lables = {1: 'discount', 2: 'mileage', 3: 'plusone'}"
   ]
  },
  {
   "cell_type": "code",
   "execution_count": 19,
   "metadata": {},
   "outputs": [
    {
     "data": {
      "text/plain": [
       "<matplotlib.axes._subplots.AxesSubplot at 0xb366da0>"
      ]
     },
     "execution_count": 19,
     "metadata": {},
     "output_type": "execute_result"
    },
    {
     "data": {
      "image/png": "[encoded data removed]",
      "text/plain": [
       "<Figure size 432x288 with 1 Axes>"
      ]
     },
     "metadata": {},
     "output_type": "display_data"
    }
   ],
   "source": [
    "#타입별 사용금액 상자그림\n",
    "sb_df.iloc[:, [1, 3]].boxplot(by='type', showmeans=True)"
   ]
  },
  {
   "cell_type": "code",
   "execution_count": 20,
   "metadata": {},
   "outputs": [
    {
     "data": {
      "text/plain": [
       "type\n",
       "1    95692.307692\n",
       "2    81326.923077\n",
       "3    73057.692308\n",
       "Name: amount, dtype: float64"
      ]
     },
     "execution_count": 20,
     "metadata": {},
     "output_type": "execute_result"
    }
   ],
   "source": [
    "#타입별 평균\n",
    "sb_df.amount.groupby(sb_df.type).mean()"
   ]
  },
  {
   "cell_type": "code",
   "execution_count": 21,
   "metadata": {},
   "outputs": [
    {
     "data": {
      "text/plain": [
       "(0.92525315284729, 0.0029497381765395403)"
      ]
     },
     "execution_count": 21,
     "metadata": {},
     "output_type": "execute_result"
    },
    {
     "data": {
      "image/png": "[encoded data removed]",
      "text/plain": [
       "<Figure size 432x288 with 1 Axes>"
      ]
     },
     "metadata": {},
     "output_type": "display_data"
    }
   ],
   "source": [
    "#타입별 금액 추출\n",
    "\n",
    "data_t1 = sb_df['amount'][sb_df.type == 1] # my_df[my_df.type == 1].ix[:, ['type','amount']]\n",
    "pyplot.figure(1)\n",
    "pyplot.hist(data_t1, bins=10)\n",
    "stats.skew(data_t1)\n",
    "stats.shapiro(data_t1)"
   ]
  },
  {
   "cell_type": "code",
   "execution_count": 22,
   "metadata": {},
   "outputs": [
    {
     "data": {
      "text/plain": [
       "(0.9522883296012878, 0.03643041104078293)"
      ]
     },
     "execution_count": 22,
     "metadata": {},
     "output_type": "execute_result"
    },
    {
     "data": {
      "image/png": "[encoded data removed]",
      "text/plain": [
       "<Figure size 432x288 with 1 Axes>"
      ]
     },
     "metadata": {},
     "output_type": "display_data"
    }
   ],
   "source": [
    "pyplot.figure(2)\n",
    "data_t2 = sb_df['amount'][sb_df.type == 2]\n",
    "pyplot.hist(data_t2, bins=10)\n",
    "stats.skew(data_t2)\n",
    "stats.shapiro(data_t2)"
   ]
  },
  {
   "cell_type": "code",
   "execution_count": 23,
   "metadata": {},
   "outputs": [
    {
     "data": {
      "text/plain": [
       "(0.8925897479057312, 0.00020913001208100468)"
      ]
     },
     "execution_count": 23,
     "metadata": {},
     "output_type": "execute_result"
    },
    {
     "data": {
      "image/png": "[encoded data removed]",
      "text/plain": [
       "<Figure size 432x288 with 1 Axes>"
      ]
     },
     "metadata": {},
     "output_type": "display_data"
    }
   ],
   "source": [
    "pyplot.figure(3)\n",
    "data_t3 = sb_df['amount'][sb_df.type == 3]\n",
    "pyplot.hist(data_t3, bins=10)\n",
    "stats.skew(data_t3)\n",
    "stats.shapiro(data_t3)"
   ]
  },
  {
   "cell_type": "code",
   "execution_count": 24,
   "metadata": {},
   "outputs": [
    {
     "data": {
      "text/plain": [
       "(0.9670653939247131, 0.15831419825553894)"
      ]
     },
     "execution_count": 24,
     "metadata": {},
     "output_type": "execute_result"
    },
    {
     "data": {
      "image/png": "[encoded data removed]",
      "text/plain": [
       "<Figure size 432x288 with 1 Axes>"
      ]
     },
     "metadata": {},
     "output_type": "display_data"
    }
   ],
   "source": [
    "data_t1_ln = [math.log(x, 10) for x in data_t1]\n",
    "pyplot.figure(4)\n",
    "pyplot.hist(data_t1_ln, bins=10)\n",
    "stats.skew(data_t1_ln)\n",
    "stats.shapiro(data_t1_ln)"
   ]
  },
  {
   "cell_type": "code",
   "execution_count": 25,
   "metadata": {},
   "outputs": [
    {
     "data": {
      "text/plain": [
       "(0.9073035717010498, 0.0006559378234669566)"
      ]
     },
     "execution_count": 25,
     "metadata": {},
     "output_type": "execute_result"
    },
    {
     "data": {
      "image/png": "[encoded data removed]",
      "text/plain": [
       "<Figure size 432x288 with 1 Axes>"
      ]
     },
     "metadata": {},
     "output_type": "display_data"
    }
   ],
   "source": [
    "data_t2_ln = [math.log(x, 10) for x in data_t2]\n",
    "pyplot.figure(5)\n",
    "pyplot.hist(data_t2_ln, bins=10)\n",
    "stats.skew(data_t2_ln)\n",
    "stats.shapiro(data_t2_ln)"
   ]
  },
  {
   "cell_type": "code",
   "execution_count": 26,
   "metadata": {},
   "outputs": [
    {
     "data": {
      "text/plain": [
       "(0.9621309041976929, 0.09682846069335938)"
      ]
     },
     "execution_count": 26,
     "metadata": {},
     "output_type": "execute_result"
    },
    {
     "data": {
      "image/png": "[encoded data removed]",
      "text/plain": [
       "<Figure size 432x288 with 1 Axes>"
      ]
     },
     "metadata": {},
     "output_type": "display_data"
    }
   ],
   "source": [
    "data_t3_ln = [math.log(x, 10) for x in data_t3]\n",
    "pyplot.figure(6)\n",
    "pyplot.hist(data_t3_ln, bins=10)\n",
    "stats.skew(data_t3_ln)\n",
    "stats.shapiro(data_t3_ln)"
   ]
  },
  {
   "cell_type": "code",
   "execution_count": 28,
   "metadata": {},
   "outputs": [
    {
     "data": {
      "text/plain": [
       "1    0.333333\n",
       "2    0.333333\n",
       "3    0.333333\n",
       "Name: type, dtype: float64"
      ]
     },
     "execution_count": 28,
     "metadata": {},
     "output_type": "execute_result"
    }
   ],
   "source": [
    "#사용분야 변수 빈도분석\n",
    "sb_df.type.value_counts(normalize=False, sort=False)\n",
    "sb_df.type.value_counts(normalize=True, sort=False)"
   ]
  },
  {
   "cell_type": "code",
   "execution_count": 30,
   "metadata": {},
   "outputs": [
    {
     "name": "stdout",
     "output_type": "stream",
     "text": [
      "LeveneResult(statistic=9.905833643067448, pvalue=9.006485318301135e-05) \n",
      "\n"
     ]
    }
   ],
   "source": [
    "#분산의 동질성 검정\n",
    "result1 = stats.levene(data_t1, data_t2, data_t3)\n",
    "print(result1, \"\\n\")"
   ]
  },
  {
   "cell_type": "code",
   "execution_count": 31,
   "metadata": {},
   "outputs": [
    {
     "name": "stderr",
     "output_type": "stream",
     "text": [
      "C:\\Users\\acorn\\Anaconda3\\lib\\site-packages\\ipykernel_launcher.py:2: FutureWarning: Method .as_matrix will be removed in a future version. Use .values instead.\n",
      "  \n",
      "C:\\Users\\acorn\\Anaconda3\\lib\\site-packages\\ipykernel_launcher.py:3: FutureWarning: Method .as_matrix will be removed in a future version. Use .values instead.\n",
      "  This is separate from the ipykernel package so we can avoid doing imports until\n"
     ]
    },
    {
     "name": "stdout",
     "output_type": "stream",
     "text": [
      "                            OLS Regression Results                            \n",
      "==============================================================================\n",
      "Dep. Variable:                 amount   R-squared:                       0.055\n",
      "Model:                            OLS   Adj. R-squared:                  0.043\n",
      "Method:                 Least Squares   F-statistic:                     4.487\n",
      "Date:                Thu, 12 Jul 2018   Prob (F-statistic):             0.0128\n",
      "Time:                        20:56:33   Log-Likelihood:                -1868.9\n",
      "No. Observations:                 156   AIC:                             3744.\n",
      "Df Residuals:                     153   BIC:                             3753.\n",
      "Df Model:                           2                                         \n",
      "Covariance Type:            nonrobust                                         \n",
      "================================================================================\n",
      "                   coef    std err          t      P>|t|      [0.025      0.975]\n",
      "--------------------------------------------------------------------------------\n",
      "Intercept     9.569e+04   5407.169     17.697      0.000     8.5e+04    1.06e+05\n",
      "C(type)[T.2] -1.437e+04   7646.891     -1.879      0.062   -2.95e+04     741.740\n",
      "C(type)[T.3] -2.263e+04   7646.891     -2.960      0.004   -3.77e+04   -7527.491\n",
      "==============================================================================\n",
      "Omnibus:                        9.554   Durbin-Watson:                   0.207\n",
      "Prob(Omnibus):                  0.008   Jarque-Bera (JB):               10.088\n",
      "Skew:                           0.623   Prob(JB):                      0.00645\n",
      "Kurtosis:                       2.983   Cond. No.                         3.73\n",
      "==============================================================================\n",
      "\n",
      "Warnings:\n",
      "[1] Standard Errors assume that the covariance matrix of the errors is correctly specified. \n",
      "\n",
      "F_onewayResult(statistic=4.486652164775914, pvalue=0.012778242856706807) \n",
      "\n",
      "   Multiple Comparison of Means - Tukey HSD,FWER=0.05  \n",
      "=======================================================\n",
      "group1 group2   meandiff     lower      upper    reject\n",
      "-------------------------------------------------------\n",
      "  1      2    -14365.3846 -32464.9863 3734.2171  False \n",
      "  1      3    -22634.6154 -40734.2171 -4535.0137  True \n",
      "  2      3     -8269.2308 -26368.8325  9830.371  False \n",
      "------------------------------------------------------- \n",
      "\n"
     ]
    },
    {
     "data": {
      "text/plain": [
       "<matplotlib.axes._subplots.AxesSubplot at 0xbe1c320>"
      ]
     },
     "execution_count": 31,
     "metadata": {},
     "output_type": "execute_result"
    },
    {
     "data": {
      "image/png": "[encoded data removed]",
      "text/plain": [
       "<Figure size 432x288 with 1 Axes>"
      ]
     },
     "metadata": {},
     "output_type": "display_data"
    }
   ],
   "source": [
    "#세 모집단 평균(분산)차이 검정\n",
    "Y = sb_df.amount.as_matrix()\n",
    "X = sb_df.type.as_matrix()\n",
    "#F = spm1d.stats.anova1(Y, X, equal_var=False).inference(alpha=0.05)\n",
    "result1 = ols('amount ~ C(type)', data=sb_df).fit()\n",
    "print(result1.summary(), \"\\n\")\n",
    "result2 = stats.f_oneway(data_t1, data_t2, data_t3)\n",
    "print(result2, \"\\n\")\n",
    "result3 = sm.stats.multicomp.pairwise_tukeyhsd(sb_df.amount, sb_df.type)\n",
    "print(result3, \"\\n\")\n",
    "sb_df.iloc[:, [1, 3]].boxplot(by='type', showmeans=1)"
   ]
  },
  {
   "cell_type": "markdown",
   "metadata": {
    "collapsed": true
   },
   "source": [
    "## end of documents"
   ]
  }
 ],
 "metadata": {
  "anaconda-cloud": {},
  "kernelspec": {
   "display_name": "Python 3",
   "language": "python",
   "name": "python3"
  },
  "language_info": {
   "codemirror_mode": {
    "name": "ipython",
    "version": 3
   },
   "file_extension": ".py",
   "mimetype": "text/x-python",
   "name": "python",
   "nbconvert_exporter": "python",
   "pygments_lexer": "ipython3",
   "version": "3.6.5"
  }
 },
 "nbformat": 4,
 "nbformat_minor": 1
}
