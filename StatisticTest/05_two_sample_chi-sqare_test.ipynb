{
 "cells": [
  {
   "cell_type": "markdown",
   "metadata": {},
   "source": [
    "## 2표본 다항(비율) 차이분석 ==> chi-square.test"
   ]
  },
  {
   "cell_type": "code",
   "execution_count": 1,
   "metadata": {},
   "outputs": [],
   "source": [
    "# -*- coding: utf-8 -*-\n",
    "#컨벤션\n",
    "%matplotlib inline\n",
    "from pandas import DataFrame, Series\n",
    "import pandas as pd\n",
    "import matplotlib.pyplot as plt\n",
    "import numpy as np\n",
    "from scipy import stats\n",
    "import statsmodels\n",
    "import math"
   ]
  },
  {
   "cell_type": "code",
   "execution_count": 2,
   "metadata": {},
   "outputs": [],
   "source": [
    "#skipinitialspace 컬럼의 빈칸 없애고 전체 자료 읽어 들이기\n",
    "my_df = pd.read_csv('coupon.csv', skipinitialspace=True)"
   ]
  },
  {
   "cell_type": "code",
   "execution_count": 3,
   "metadata": {},
   "outputs": [
    {
     "name": "stdout",
     "output_type": "stream",
     "text": [
      "   no  type  category   amount  week\n",
      "0   1     1       4.0  99300.0   1.0\n",
      "1   2     1       2.0  98300.0   1.0\n",
      "2   4     2       NaN      NaN   NaN\n",
      "3   6     1       NaN      NaN   NaN\n",
      "4   9     2       NaN      NaN   NaN\n",
      "      no  type  category    amount  week\n",
      "196  295     2       NaN       NaN   NaN\n",
      "197  296     2       NaN       NaN   NaN\n",
      "198  298     2       NaN       NaN   NaN\n",
      "199  299     2       4.0  152400.0   1.0\n",
      "200  300     2       1.0   37600.0   0.0\n",
      "<class 'pandas.core.frame.DataFrame'>\n",
      "RangeIndex: 201 entries, 0 to 200\n",
      "Data columns (total 5 columns):\n",
      "no          201 non-null int64\n",
      "type        201 non-null int64\n",
      "category    117 non-null float64\n",
      "amount      117 non-null float64\n",
      "week        117 non-null float64\n",
      "dtypes: float64(3), int64(2)\n",
      "memory usage: 7.9 KB\n",
      "None\n",
      "               no        type    category         amount        week\n",
      "count  201.000000  201.000000  117.000000     117.000000  117.000000\n",
      "mean   149.323383    1.437811    2.495726   86906.837607    0.555556\n",
      "std     87.036429    0.497356    1.118989   39082.919645    0.499041\n",
      "min      1.000000    1.000000    1.000000   18500.000000    0.000000\n",
      "25%     74.000000    1.000000    2.000000   63000.000000    0.000000\n",
      "50%    149.000000    1.000000    2.000000   82400.000000    1.000000\n",
      "75%    224.000000    2.000000    3.000000  107000.000000    1.000000\n",
      "max    300.000000    2.000000    4.000000  187400.000000    1.000000\n"
     ]
    }
   ],
   "source": [
    "#변수 확인\n",
    "print(my_df.head())\n",
    "print(my_df.tail())\n",
    "print(my_df.info())\n",
    "print(my_df.describe())"
   ]
  },
  {
   "cell_type": "code",
   "execution_count": 4,
   "metadata": {},
   "outputs": [
    {
     "data": {
      "text/plain": [
       " 4.0    29\n",
       " 2.0    30\n",
       "NaN     84\n",
       " 3.0    29\n",
       " 1.0    29\n",
       "Name: category, dtype: int64"
      ]
     },
     "execution_count": 4,
     "metadata": {},
     "output_type": "execute_result"
    }
   ],
   "source": [
    "#서브셋 데이터 생성\n",
    "my_df.category.value_counts(normalize=False, sort=False, dropna=False)"
   ]
  },
  {
   "cell_type": "code",
   "execution_count": 5,
   "metadata": {},
   "outputs": [],
   "source": [
    "sb_df = my_df[my_df.category.notnull()]"
   ]
  },
  {
   "cell_type": "code",
   "execution_count": 6,
   "metadata": {},
   "outputs": [
    {
     "data": {
      "text/plain": [
       "4.0    0.247863\n",
       "2.0    0.256410\n",
       "3.0    0.247863\n",
       "1.0    0.247863\n",
       "Name: category, dtype: float64"
      ]
     },
     "execution_count": 6,
     "metadata": {},
     "output_type": "execute_result"
    }
   ],
   "source": [
    "sb_df.category.value_counts(normalize=False, sort=False)\n",
    "sb_df.category.value_counts(normalize=True, sort=False)"
   ]
  },
  {
   "cell_type": "code",
   "execution_count": 7,
   "metadata": {},
   "outputs": [
    {
     "data": {
      "text/plain": [
       "1    0.649573\n",
       "2    0.350427\n",
       "Name: type, dtype: float64"
      ]
     },
     "execution_count": 7,
     "metadata": {},
     "output_type": "execute_result"
    }
   ],
   "source": [
    "sb_df.type.value_counts(normalize=False, sort=False)\n",
    "sb_df.type.value_counts(normalize=True, sort=False)"
   ]
  },
  {
   "cell_type": "code",
   "execution_count": 13,
   "metadata": {},
   "outputs": [],
   "source": [
    "#이름정의\n",
    "category_lables = {1: 'travel', 2: 'beauty', 3: 'food', 4: 'apparals'}\n",
    "type_lables = {1: 'discount', 2: 'mileage'}"
   ]
  },
  {
   "cell_type": "code",
   "execution_count": 14,
   "metadata": {},
   "outputs": [],
   "source": [
    "category_fq = sb_df.category.apply(lambda x: category_lables[x]).value_counts(normalize=False, sort=False)\n",
    "category_rt = sb_df.category.apply(lambda x: category_lables[x]).value_counts(normalize=True, sort=False)\n",
    "type_fq = sb_df.type.apply(lambda x: type_lables[x]).value_counts(normalize=False, sort=False)\n",
    "type_rt = sb_df.type.apply(lambda x: type_lables[x]).value_counts(normalize=True, sort=False)"
   ]
  },
  {
   "cell_type": "code",
   "execution_count": 15,
   "metadata": {},
   "outputs": [
    {
     "name": "stdout",
     "output_type": "stream",
     "text": [
      "apparals    29\n",
      "beauty      30\n",
      "food        29\n",
      "travel      29\n",
      "Name: category, dtype: int64\n",
      "apparals    0.247863\n",
      "beauty      0.256410\n",
      "food        0.247863\n",
      "travel      0.247863\n",
      "Name: category, dtype: float64\n",
      "discount    76\n",
      "mileage     41\n",
      "Name: type, dtype: int64\n",
      "discount    0.649573\n",
      "mileage     0.350427\n",
      "Name: type, dtype: float64\n"
     ]
    }
   ],
   "source": [
    "print(category_fq)\n",
    "print(category_rt)\n",
    "print(type_fq)\n",
    "print(type_rt)"
   ]
  },
  {
   "cell_type": "code",
   "execution_count": 11,
   "metadata": {},
   "outputs": [
    {
     "data": {
      "text/plain": [
       "<matplotlib.axes._subplots.AxesSubplot at 0xa62d438>"
      ]
     },
     "execution_count": 11,
     "metadata": {},
     "output_type": "execute_result"
    },
    {
     "data": {
      "image/png": "[encoded data removed]",
      "text/plain": [
       "<Figure size 432x288 with 1 Axes>"
      ]
     },
     "metadata": {},
     "output_type": "display_data"
    },
    {
     "data": {
      "image/png": "[encoded data removed]",
      "text/plain": [
       "<Figure size 432x288 with 1 Axes>"
      ]
     },
     "metadata": {},
     "output_type": "display_data"
    },
    {
     "data": {
      "image/png": "[encoded data removed]",
      "text/plain": [
       "<Figure size 432x288 with 1 Axes>"
      ]
     },
     "metadata": {},
     "output_type": "display_data"
    },
    {
     "data": {
      "image/png": "[encoded data removed]",
      "text/plain": [
       "<Figure size 432x288 with 1 Axes>"
      ]
     },
     "metadata": {},
     "output_type": "display_data"
    }
   ],
   "source": [
    "plt.figure(0)\n",
    "category_fq.plot(kind='bar', title=u'Category')\n",
    "plt.figure(1)\n",
    "category_fq.plot(kind='pie', title=u'Category')\n",
    "plt.figure(2)\n",
    "type_fq.plot(kind='bar', title=u'Category')\n",
    "plt.figure(3)\n",
    "type_fq.plot(kind='pie', title=u'Category')"
   ]
  },
  {
   "cell_type": "code",
   "execution_count": 12,
   "metadata": {},
   "outputs": [
    {
     "name": "stdout",
     "output_type": "stream",
     "text": [
      "Chi = 28.350, p-value = 0.000, df = 8\n"
     ]
    },
    {
     "data": {
      "image/png": "[encoded data removed]",
      "text/plain": [
       "<Figure size 432x288 with 1 Axes>"
      ]
     },
     "metadata": {},
     "output_type": "display_data"
    }
   ],
   "source": [
    "my_df_cross = pd.crosstab(my_df.type, my_df.category, margins=True)\n",
    "#my_df_cross.columns = category_lables.values()\n",
    "#my_df_cross.index = type_lables.values()\n",
    "my_df_cross.plot(kind = 'bar', stacked = 1)\n",
    "\n",
    "pd.crosstab(my_df.type, my_df.category, margins=False)\n",
    "\n",
    "stats.chi2_contingency(my_df_cross, correction=True, lambda_=None)\n",
    "(a, b, c, d) = stats.chi2_contingency(my_df_cross, correction=True, lambda_=None)\n",
    "print('Chi = %4.3f, p-value = %4.3f, df = %0.0d'% (a, b, c))"
   ]
  },
  {
   "cell_type": "markdown",
   "metadata": {
    "collapsed": true
   },
   "source": [
    "## end of documents"
   ]
  },
  {
   "cell_type": "code",
   "execution_count": null,
   "metadata": {},
   "outputs": [],
   "source": []
  }
 ],
 "metadata": {
  "anaconda-cloud": {},
  "kernelspec": {
   "display_name": "Python 3",
   "language": "python",
   "name": "python3"
  },
  "language_info": {
   "codemirror_mode": {
    "name": "ipython",
    "version": 3
   },
   "file_extension": ".py",
   "mimetype": "text/x-python",
   "name": "python",
   "nbconvert_exporter": "python",
   "pygments_lexer": "ipython3",
   "version": "3.6.5"
  }
 },
 "nbformat": 4,
 "nbformat_minor": 1
}
