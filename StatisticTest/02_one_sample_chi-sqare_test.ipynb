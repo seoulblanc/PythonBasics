{
 "cells": [
  {
   "cell_type": "markdown",
   "metadata": {},
   "source": [
    "## 일표본 다항(비율) 차이분석 ==> chi-square.test"
   ]
  },
  {
   "cell_type": "code",
   "execution_count": 1,
   "metadata": {},
   "outputs": [],
   "source": [
    "# -*- coding: utf-8 -*-\n",
    "#컨벤션\n",
    "%matplotlib inline\n",
    "from pandas import DataFrame, Series\n",
    "import pandas as pd\n",
    "import matplotlib.pyplot as plt\n",
    "import numpy as np\n",
    "from scipy import stats\n",
    "import statsmodels"
   ]
  },
  {
   "cell_type": "code",
   "execution_count": 2,
   "metadata": {},
   "outputs": [],
   "source": [
    "#skipinitialspace 컬럼의 빈칸 없애고 전체 자료 읽어 들이기\n",
    "my_df = pd.read_csv('coupon.csv', skipinitialspace=True)"
   ]
  },
  {
   "cell_type": "code",
   "execution_count": 3,
   "metadata": {},
   "outputs": [
    {
     "name": "stdout",
     "output_type": "stream",
     "text": [
      "   no  type  category   amount  week\n",
      "0   1     1       4.0  99300.0   1.0\n",
      "1   2     1       2.0  98300.0   1.0\n",
      "2   4     2       NaN      NaN   NaN\n",
      "3   6     1       NaN      NaN   NaN\n",
      "4   9     2       NaN      NaN   NaN\n",
      "      no  type  category    amount  week\n",
      "196  295     2       NaN       NaN   NaN\n",
      "197  296     2       NaN       NaN   NaN\n",
      "198  298     2       NaN       NaN   NaN\n",
      "199  299     2       4.0  152400.0   1.0\n",
      "200  300     2       1.0   37600.0   0.0\n",
      "<class 'pandas.core.frame.DataFrame'>\n",
      "RangeIndex: 201 entries, 0 to 200\n",
      "Data columns (total 5 columns):\n",
      "no          201 non-null int64\n",
      "type        201 non-null int64\n",
      "category    117 non-null float64\n",
      "amount      117 non-null float64\n",
      "week        117 non-null float64\n",
      "dtypes: float64(3), int64(2)\n",
      "memory usage: 7.9 KB\n",
      "None\n",
      "               no        type    category         amount        week\n",
      "count  201.000000  201.000000  117.000000     117.000000  117.000000\n",
      "mean   149.323383    1.437811    2.495726   86906.837607    0.555556\n",
      "std     87.036429    0.497356    1.118989   39082.919645    0.499041\n",
      "min      1.000000    1.000000    1.000000   18500.000000    0.000000\n",
      "25%     74.000000    1.000000    2.000000   63000.000000    0.000000\n",
      "50%    149.000000    1.000000    2.000000   82400.000000    1.000000\n",
      "75%    224.000000    2.000000    3.000000  107000.000000    1.000000\n",
      "max    300.000000    2.000000    4.000000  187400.000000    1.000000\n"
     ]
    }
   ],
   "source": [
    "#변수 확인\n",
    "print(my_df.head())\n",
    "print(my_df.tail())\n",
    "print(my_df.info())\n",
    "print(my_df.describe())"
   ]
  },
  {
   "cell_type": "code",
   "execution_count": 4,
   "metadata": {},
   "outputs": [
    {
     "data": {
      "text/plain": [
       " 4.0    29\n",
       " 2.0    30\n",
       "NaN     84\n",
       " 3.0    29\n",
       " 1.0    29\n",
       "Name: category, dtype: int64"
      ]
     },
     "execution_count": 4,
     "metadata": {},
     "output_type": "execute_result"
    }
   ],
   "source": [
    "#서브셋 데이터 생성\n",
    "my_df.category.value_counts(normalize=False, sort=False, dropna=False)"
   ]
  },
  {
   "cell_type": "code",
   "execution_count": 5,
   "metadata": {},
   "outputs": [
    {
     "data": {
      "text/html": [
       "<div>\n",
       "<style scoped>\n",
       "    .dataframe tbody tr th:only-of-type {\n",
       "        vertical-align: middle;\n",
       "    }\n",
       "\n",
       "    .dataframe tbody tr th {\n",
       "        vertical-align: top;\n",
       "    }\n",
       "\n",
       "    .dataframe thead th {\n",
       "        text-align: right;\n",
       "    }\n",
       "</style>\n",
       "<table border=\"1\" class=\"dataframe\">\n",
       "  <thead>\n",
       "    <tr style=\"text-align: right;\">\n",
       "      <th></th>\n",
       "      <th>no</th>\n",
       "      <th>type</th>\n",
       "      <th>category</th>\n",
       "      <th>amount</th>\n",
       "      <th>week</th>\n",
       "    </tr>\n",
       "  </thead>\n",
       "  <tbody>\n",
       "    <tr>\n",
       "      <th>0</th>\n",
       "      <td>1</td>\n",
       "      <td>1</td>\n",
       "      <td>4.0</td>\n",
       "      <td>99300.0</td>\n",
       "      <td>1.0</td>\n",
       "    </tr>\n",
       "    <tr>\n",
       "      <th>1</th>\n",
       "      <td>2</td>\n",
       "      <td>1</td>\n",
       "      <td>2.0</td>\n",
       "      <td>98300.0</td>\n",
       "      <td>1.0</td>\n",
       "    </tr>\n",
       "    <tr>\n",
       "      <th>5</th>\n",
       "      <td>10</td>\n",
       "      <td>2</td>\n",
       "      <td>3.0</td>\n",
       "      <td>40900.0</td>\n",
       "      <td>0.0</td>\n",
       "    </tr>\n",
       "    <tr>\n",
       "      <th>6</th>\n",
       "      <td>11</td>\n",
       "      <td>1</td>\n",
       "      <td>3.0</td>\n",
       "      <td>76400.0</td>\n",
       "      <td>1.0</td>\n",
       "    </tr>\n",
       "    <tr>\n",
       "      <th>7</th>\n",
       "      <td>13</td>\n",
       "      <td>1</td>\n",
       "      <td>2.0</td>\n",
       "      <td>83800.0</td>\n",
       "      <td>1.0</td>\n",
       "    </tr>\n",
       "  </tbody>\n",
       "</table>\n",
       "</div>"
      ],
      "text/plain": [
       "   no  type  category   amount  week\n",
       "0   1     1       4.0  99300.0   1.0\n",
       "1   2     1       2.0  98300.0   1.0\n",
       "5  10     2       3.0  40900.0   0.0\n",
       "6  11     1       3.0  76400.0   1.0\n",
       "7  13     1       2.0  83800.0   1.0"
      ]
     },
     "execution_count": 5,
     "metadata": {},
     "output_type": "execute_result"
    }
   ],
   "source": [
    "sb_ct = my_df[my_df.category.notnull()]\n",
    "sb_ct.head()"
   ]
  },
  {
   "cell_type": "code",
   "execution_count": 7,
   "metadata": {},
   "outputs": [
    {
     "name": "stdout",
     "output_type": "stream",
     "text": [
      "4.0    29\n",
      "2.0    30\n",
      "3.0    29\n",
      "1.0    29\n",
      "Name: category, dtype: int64\n",
      "4.0    0.247863\n",
      "2.0    0.256410\n",
      "3.0    0.247863\n",
      "1.0    0.247863\n",
      "Name: category, dtype: float64\n"
     ]
    }
   ],
   "source": [
    "#사용분야 변수 빈도분석\n",
    "print(sb_ct.category.value_counts(normalize=False, sort=False))\n",
    "print(sb_ct.category.value_counts(normalize=True, sort=False))"
   ]
  },
  {
   "cell_type": "code",
   "execution_count": 8,
   "metadata": {},
   "outputs": [],
   "source": [
    "#레이블 선언\n",
    "category_lables = {1: 'travel', 2: 'beauty', 3: 'food', 4: 'apparals'}"
   ]
  },
  {
   "cell_type": "code",
   "execution_count": 9,
   "metadata": {},
   "outputs": [
    {
     "name": "stdout",
     "output_type": "stream",
     "text": [
      "beauty      30\n",
      "apparals    29\n",
      "food        29\n",
      "travel      29\n",
      "Name: category, dtype: int64\n",
      "beauty      0.256410\n",
      "apparals    0.247863\n",
      "food        0.247863\n",
      "travel      0.247863\n",
      "Name: category, dtype: float64\n"
     ]
    }
   ],
   "source": [
    "#레이블이 들어간 빈도분석\n",
    "category_fq = sb_ct.category.apply(lambda x: category_lables[x]).value_counts(normalize=False, sort=False)\n",
    "category_rt = sb_ct.category.apply(lambda x: category_lables[x]).value_counts(normalize=True, sort=False)\n",
    "print(category_fq)\n",
    "print(category_rt)"
   ]
  },
  {
   "cell_type": "code",
   "execution_count": 15,
   "metadata": {},
   "outputs": [
    {
     "data": {
      "text/plain": [
       "<matplotlib.axes._subplots.AxesSubplot at 0x1f5936166d8>"
      ]
     },
     "execution_count": 15,
     "metadata": {},
     "output_type": "execute_result"
    },
    {
     "data": {
      "image/png": "[encoded data removed]",
      "text/plain": [
       "<Figure size 432x288 with 1 Axes>"
      ]
     },
     "metadata": {},
     "output_type": "display_data"
    },
    {
     "data": {
      "image/png": "[encoded data removed]",
      "text/plain": [
       "<Figure size 432x288 with 1 Axes>"
      ]
     },
     "metadata": {},
     "output_type": "display_data"
    }
   ],
   "source": [
    "#막대그래프(레이블 있음)\n",
    "plt.figure(0)\n",
    "category_fq.plot(kind='bar', title='Category')\n",
    "plt.figure(1)\n",
    "category_fq.plot(kind='pie', title='Category')"
   ]
  },
  {
   "cell_type": "code",
   "execution_count": 10,
   "metadata": {},
   "outputs": [
    {
     "name": "stdout",
     "output_type": "stream",
     "text": [
      "다항: Chi-Sqare = 0.026, p-value = 0.999\n"
     ]
    }
   ],
   "source": [
    "#다항검정\n",
    "stats.chisquare(category_fq)\n",
    "(x, y) = stats.chisquare(category_fq)\n",
    "print(\"다항: Chi-Sqare = %4.3f, p-value = %4.3f\" % (x, y))"
   ]
  },
  {
   "cell_type": "code",
   "execution_count": 11,
   "metadata": {},
   "outputs": [
    {
     "name": "stdout",
     "output_type": "stream",
     "text": [
      "          exp_val   osb_val\n",
      "beauty       0.19  0.256410\n",
      "apparals     0.23  0.247863\n",
      "food         0.37  0.247863\n",
      "travel       0.31  0.247863\n",
      "적합: Chi-Sqare = 9.052, p-value = 0.029\n"
     ]
    }
   ],
   "source": [
    "#적합도\n",
    "exp_rt = np.array([0.19, 0.23, 0.37, 0.31]) # 경험적 기준(업계 평균+알파...)\n",
    "data = {'exp_val':exp_rt,'osb_val':category_rt}\n",
    "data2 = pd.DataFrame(data)\n",
    "print(data2)\n",
    "exp_fq = exp_rt * len(sb_ct.category)\n",
    "stats.chisquare(category_fq, exp_fq)\n",
    "x = stats.chisquare(category_fq, exp_fq)\n",
    "print(\"적합: Chi-Sqare = %4.3f, p-value = %4.3f\" % (x.statistic, x.pvalue))"
   ]
  },
  {
   "cell_type": "markdown",
   "metadata": {
    "collapsed": true
   },
   "source": [
    "## end of documents"
   ]
  }
 ],
 "metadata": {
  "anaconda-cloud": {},
  "kernelspec": {
   "display_name": "Python 3",
   "language": "python",
   "name": "python3"
  },
  "language_info": {
   "codemirror_mode": {
    "name": "ipython",
    "version": 3
   },
   "file_extension": ".py",
   "mimetype": "text/x-python",
   "name": "python",
   "nbconvert_exporter": "python",
   "pygments_lexer": "ipython3",
   "version": "3.6.5"
  }
 },
 "nbformat": 4,
 "nbformat_minor": 1
}
