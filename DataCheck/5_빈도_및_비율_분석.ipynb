{
 "cells": [
  {
   "cell_type": "markdown",
   "metadata": {},
   "source": [
    "## 초기환경설정 및 라이브러리 로딩(import convention)"
   ]
  },
  {
   "cell_type": "code",
   "execution_count": null,
   "metadata": {},
   "outputs": [],
   "source": [
    "#import 컨벤션\n",
    "import pandas as pd\n",
    "import numpy as np\n",
    "from scipy import stats\n",
    "from random import randint\n",
    "import itertools"
   ]
  },
  {
   "cell_type": "code",
   "execution_count": null,
   "metadata": {},
   "outputs": [],
   "source": [
    "# 시각화 그래프가 jupyter noteboob 상에 출력될 수 있도록 환경설정\n",
    "%matplotlib inline\n",
    "\n",
    "# 시각화 작업을 위한 모듈 로딩작업\n",
    "import matplotlib.pyplot as plt\n",
    "from matplotlib import font_manager, rc\n",
    "\n",
    "# 사용을 원하는 한글폰트에 대한 공식이름 확인\n",
    "font_manager.FontProperties(fname=\"c:/Windows/Fonts/malgun.ttf\").get_name()\n",
    "\n",
    "# 해당 한글폰트를 파이선 그래프에서 사용가능하도록 설정\n",
    "font_name = font_manager.FontProperties(fname=\"c:/Windows/Fonts/malgun.ttf\").get_name()\n",
    "rc('font', family=font_name)"
   ]
  },
  {
   "cell_type": "markdown",
   "metadata": {},
   "source": [
    "## 데이터 로딩"
   ]
  },
  {
   "cell_type": "code",
   "execution_count": null,
   "metadata": {},
   "outputs": [],
   "source": [
    "# abc.csv 파일 메모리로 로딩\n",
    "abc = pd.read_csv('abc.csv', skipinitialspace=True)"
   ]
  },
  {
   "cell_type": "code",
   "execution_count": null,
   "metadata": {},
   "outputs": [],
   "source": [
    "abc"
   ]
  },
  {
   "cell_type": "code",
   "execution_count": null,
   "metadata": {},
   "outputs": [],
   "source": []
  },
  {
   "cell_type": "code",
   "execution_count": null,
   "metadata": {},
   "outputs": [],
   "source": [
    "#정성적(범주형:명목, 서열척도), 정량적(연속형: 등간, 비율척도) 변수를 분리\n",
    "cateV = abc[['gender','job','position','address']]\n",
    "contV = abc.drop(['gender','job','position','address'], axis=1)"
   ]
  },
  {
   "cell_type": "code",
   "execution_count": null,
   "metadata": {},
   "outputs": [],
   "source": [
    "# 범주형 변수로 구성된 데이터프레임 간략조회\n",
    "cateV.head()"
   ]
  },
  {
   "cell_type": "code",
   "execution_count": null,
   "metadata": {},
   "outputs": [],
   "source": [
    "# 연속형 변수로 구성된 데이터프레임 간략조회\n",
    "contV.head()"
   ]
  },
  {
   "cell_type": "markdown",
   "metadata": {},
   "source": [
    "## 특정변수의 데이터를 문자열 또는 수치로 자유롭게 변환"
   ]
  },
  {
   "cell_type": "code",
   "execution_count": null,
   "metadata": {},
   "outputs": [],
   "source": [
    "# abc데이터프레임의 gender변수의 세부 데이터 분포현황을 파악함\n",
    "abc.gender.value_counts(normalize=False, sort=False, dropna = False)"
   ]
  },
  {
   "cell_type": "code",
   "execution_count": null,
   "metadata": {
    "scrolled": true
   },
   "outputs": [],
   "source": [
    "# gender변수의 데이터 값을 구체적인 성별 레이블로 변경해 새로운 변수컬럼(gender_label)으로 추가함\n",
    "old = [1, 2]\n",
    "new = ['남자', '여자']\n",
    "abc['gender_label'] = abc['gender'].replace(old, new)\n",
    "\n",
    "abc.head()"
   ]
  },
  {
   "cell_type": "code",
   "execution_count": null,
   "metadata": {},
   "outputs": [],
   "source": [
    "# 성별(gender)과 성별라벨(gender_label) 변수의 간략조회\n",
    "abc[['gender', 'gender_label']].head()"
   ]
  },
  {
   "cell_type": "code",
   "execution_count": null,
   "metadata": {},
   "outputs": [],
   "source": [
    "# job 변수의 세부 데이터 분포현황을 파악함\n",
    "abc.job.value_counts(normalize=False, sort=False, dropna = False)"
   ]
  },
  {
   "cell_type": "code",
   "execution_count": null,
   "metadata": {
    "scrolled": true
   },
   "outputs": [],
   "source": [
    "# job변수의 데이터 값을 구체적인 직업명칭 레이블로 변경해 새로운 변수컬럼(job_label)으로 추가함\n",
    "old = [1, 2, 3]\n",
    "new = ['학생', '주부', '직장인']\n",
    "abc['job_label'] = abc['job'].replace(old, new)\n",
    "\n",
    "abc.head()"
   ]
  },
  {
   "cell_type": "code",
   "execution_count": null,
   "metadata": {},
   "outputs": [],
   "source": [
    "# 직업변수와 직업라벨 변수의 간략조회\n",
    "abc[['job', 'job_label']].head()"
   ]
  },
  {
   "cell_type": "code",
   "execution_count": null,
   "metadata": {},
   "outputs": [],
   "source": [
    "# position 변수의 세부 데이터 분포현황을 파악함\n",
    "abc.position.value_counts(normalize=False, sort=False, dropna = False)"
   ]
  },
  {
   "cell_type": "code",
   "execution_count": null,
   "metadata": {
    "scrolled": true
   },
   "outputs": [],
   "source": [
    "# position변수의 데이터 값을 구체적인 직급명칭 레이블로 변경해 새로운 변수컬럼(position_label)으로 추가함\n",
    "old = [1, 2, 3, 4, 5]\n",
    "new = ['사원', '대리', '과장', '차장', '부장']\n",
    "abc['position_label'] = abc['position'].replace(old, new)\n",
    "\n",
    "abc.head(10)"
   ]
  },
  {
   "cell_type": "code",
   "execution_count": null,
   "metadata": {},
   "outputs": [],
   "source": [
    "# 직급변수와 직급라벨변수의 간략조회\n",
    "abc[['position', 'position_label']].head()"
   ]
  },
  {
   "cell_type": "code",
   "execution_count": null,
   "metadata": {
    "scrolled": false
   },
   "outputs": [],
   "source": [
    "# address 변수의 세부 데이터 분포현황을 파악함\n",
    "abc.address.value_counts(dropna = False)"
   ]
  },
  {
   "cell_type": "code",
   "execution_count": null,
   "metadata": {
    "scrolled": true
   },
   "outputs": [],
   "source": [
    "# address변수의 도시명 데이터를 개별적인 숫자로 변경해 새로운 변수컬럼으로 추가함\n",
    "old = ['Seoul', 'Busan', 'Daejeon', 'Gwangju', 'Jeju', 'Suwon']\n",
    "new = [1, 2, 3, 4, 5, 6]\n",
    "abc['city_num'] = abc['address'].replace(old, new)\n",
    "\n",
    "abc.head(10)"
   ]
  },
  {
   "cell_type": "code",
   "execution_count": null,
   "metadata": {},
   "outputs": [],
   "source": [
    "# address변수와 city_num변수의 간략조회\n",
    "abc[['address', 'city_num']].head()"
   ]
  },
  {
   "cell_type": "code",
   "execution_count": null,
   "metadata": {
    "scrolled": true
   },
   "outputs": [],
   "source": [
    "# address변수의 도시명 데이터를 활용해 수도권 및 지방지역 레이블로 변경해 새로운 변수컬럼으로 추가함\n",
    "old = ['Seoul', 'Busan', 'Daejeon', 'Gwangju', 'Jeju', 'Suwon']\n",
    "new = ['capital area', 'provinces', 'provinces', 'provinces', 'provinces', 'capital area']\n",
    "abc['city_location'] = abc['address'].replace(old, new)\n",
    "\n",
    "abc.head()"
   ]
  },
  {
   "cell_type": "code",
   "execution_count": null,
   "metadata": {
    "scrolled": true
   },
   "outputs": [],
   "source": [
    "# address 변수를 활용한  도시숫자 변수 및 지역위치 변수 간략조회\n",
    "abc[['address', 'city_num', 'city_location']].head()"
   ]
  },
  {
   "cell_type": "code",
   "execution_count": null,
   "metadata": {
    "scrolled": false
   },
   "outputs": [],
   "source": [
    "# address변수의 도시명 데이터를 개별적인 숫자로 변경해 새로운 변수컬럼으로 추가함\n",
    "old = ['capital area', 'provinces']\n",
    "new = [1, 2]\n",
    "abc['city_location_num'] = abc['city_location'].replace(old, new)\n",
    "\n",
    "abc.head(10)"
   ]
  },
  {
   "cell_type": "code",
   "execution_count": null,
   "metadata": {
    "scrolled": true
   },
   "outputs": [],
   "source": [
    "# address 변수를 활용한  도시숫자 변수 및 지역위치 변수, 지역위치 숫자변수에 대한 간략조회\n",
    "abc[['address', 'city_num', 'city_location', 'city_location_num']].head()"
   ]
  },
  {
   "cell_type": "markdown",
   "metadata": {},
   "source": [
    "## 연속형 변수를 범주화"
   ]
  },
  {
   "cell_type": "code",
   "execution_count": null,
   "metadata": {},
   "outputs": [],
   "source": [
    "# age 변수에 들어 있는 연령데이터를 연령층으로 범주화 하는데 사용할 구간범위 설정\n",
    "bins = [-np.inf, 30, 45, 65, np.inf]\n",
    "bins"
   ]
  },
  {
   "cell_type": "code",
   "execution_count": null,
   "metadata": {},
   "outputs": [],
   "source": [
    "# age변수의 연령층 범주데이터 변환을 위한  또다른 방식의 구간범위 설정\n",
    "bins2 = [abc.age.min(), 30, 45, 65, abc.age.max()]\n",
    "bins2"
   ]
  },
  {
   "cell_type": "code",
   "execution_count": null,
   "metadata": {},
   "outputs": [],
   "source": [
    "# age변수에 대한 범주화 구분 수치 및 레이블 설정\n",
    "group_num = [1, 2, 3, 4]\n",
    "group_label = ['청년층', '중년층', '장년층', '노년층']"
   ]
  },
  {
   "cell_type": "code",
   "execution_count": null,
   "metadata": {},
   "outputs": [],
   "source": [
    "# age변수데이터를 사전에 bins에서 정의한 구간범위에 따라 범주화 수치를 부여 하여 새로운 변수컬럼 생성\n",
    "abc['age_class_num'] = pd.cut(abc.age, bins, labels=group_num)"
   ]
  },
  {
   "cell_type": "code",
   "execution_count": null,
   "metadata": {},
   "outputs": [],
   "source": [
    "# age변수데이터를 사전에 bins2에서 정의한 구간범위에 따라 범주화 라벨을 부여 하여 새로운 변수컬럼 생성\n",
    "abc['age_class_label'] = pd.cut(abc.age, bins2, labels=group_label)"
   ]
  },
  {
   "cell_type": "code",
   "execution_count": null,
   "metadata": {},
   "outputs": [],
   "source": [
    "# age변수데이터의 연령층 수치 및 라벨을 부여한 범주화 작업내용 간략조회\n",
    "abc[['age', 'age_class_num', 'age_class_label']].head(10)"
   ]
  },
  {
   "cell_type": "markdown",
   "metadata": {},
   "source": [
    "## 그룹화된 집계 연산1"
   ]
  },
  {
   "cell_type": "code",
   "execution_count": null,
   "metadata": {},
   "outputs": [],
   "source": [
    "# address 주소지에 따른 연령변수에 대한 평균값 그룹연산\n",
    "abc[['age']].groupby(abc['address']).mean()"
   ]
  },
  {
   "cell_type": "code",
   "execution_count": null,
   "metadata": {},
   "outputs": [],
   "source": [
    "# job 직업유형에 따른 이벤트반응금액(price)에 대한 중앙값을 구하는 그룹연산\n",
    "abc[['price']].groupby(abc['job']).median()"
   ]
  },
  {
   "cell_type": "code",
   "execution_count": null,
   "metadata": {},
   "outputs": [],
   "source": [
    "# job_label 직업라벨에 따른 이벤트반응금액(price)에 대한 중앙값을 구하는 그룹연산\n",
    "abc[['price']].groupby(abc['job_label'], sort=False).median()"
   ]
  },
  {
   "cell_type": "code",
   "execution_count": null,
   "metadata": {},
   "outputs": [],
   "source": [
    "# 직업 및 성별에 따른 이벤트반응금액(price)에 대한 평균값을 구하는 그룹연산\n",
    "abc[['price']].groupby([abc['job_label'],abc['gender_label']]).mean()"
   ]
  },
  {
   "cell_type": "code",
   "execution_count": null,
   "metadata": {},
   "outputs": [],
   "source": [
    "# 직업라벨 및 성별에 따른 이벤트반응금액(price)에 대한 기술통계분석을 수행하는 그룹연산\n",
    "abc[['price']].groupby([abc['job_label'],abc['gender_label']]).describe()"
   ]
  },
  {
   "cell_type": "markdown",
   "metadata": {},
   "source": [
    "## 그룹화된 집계 연산2"
   ]
  },
  {
   "cell_type": "code",
   "execution_count": null,
   "metadata": {},
   "outputs": [],
   "source": [
    "# abc 데이터프레임에 대해 성별(gender)에 따른 그룹연산결과를 비교분석 하기 위한 설정\n",
    "bygender = abc.groupby('gender_label')\n",
    "bygender"
   ]
  },
  {
   "cell_type": "code",
   "execution_count": null,
   "metadata": {},
   "outputs": [],
   "source": [
    "# 성별(gender)에 따른 이벤트반응금액(price)에 대한 기술통계분석을 수행하는 그룹연산\n",
    "bygender[['price']].mean()"
   ]
  },
  {
   "cell_type": "code",
   "execution_count": null,
   "metadata": {},
   "outputs": [],
   "source": [
    "# 성별(gender)에 따른 총거래금액(total), 이벤트반응금액(price)에 대한 평균값을 구하는 그룹연산\n",
    "bygender[['total', 'price']].mean()"
   ]
  },
  {
   "cell_type": "code",
   "execution_count": null,
   "metadata": {},
   "outputs": [],
   "source": [
    "# 성별(gender)에 따른 이벤트반응금액(price)에 대한 기술통계분석을 수행하는 그룹연산\n",
    "bygender[['price']].describe()"
   ]
  },
  {
   "cell_type": "code",
   "execution_count": null,
   "metadata": {},
   "outputs": [],
   "source": [
    "# 성별(gender)에 따른 총거래금액(total), 이벤트반응금액(price)에 대한 기술통계분석을 수행하는 그룹연산\n",
    "bygender[['total', 'price']].describe()"
   ]
  },
  {
   "cell_type": "code",
   "execution_count": null,
   "metadata": {},
   "outputs": [],
   "source": [
    "# 성별(gender)에 따른 총거래금액(total), 이벤트반응금액(price)에 대한 주요 기술통계량을 분석하는 그룹연산\n",
    "bygender[['total', 'price']].agg([np.sum, np.mean, np.median, np.std, len])"
   ]
  },
  {
   "cell_type": "markdown",
   "metadata": {},
   "source": [
    "## 두 변수간 교차분석"
   ]
  },
  {
   "cell_type": "code",
   "execution_count": null,
   "metadata": {
    "scrolled": true
   },
   "outputs": [],
   "source": [
    "# 성별라벨과 직급라벨 변수간 교차분석 ==> 직급라벨의 직급순서가 어색함\n",
    "pd.crosstab(abc.gender_label, abc.position_label)"
   ]
  },
  {
   "cell_type": "code",
   "execution_count": null,
   "metadata": {},
   "outputs": [],
   "source": [
    "# 직급라벨 간략조회\n",
    "abc['position_label'].head()"
   ]
  },
  {
   "cell_type": "code",
   "execution_count": null,
   "metadata": {},
   "outputs": [],
   "source": [
    "# 직급라벨 변수의 데이터를 범주형데이터로 명시적으로 만들어줌\n",
    "abc['position_label'] = pd.Categorical(abc.position_label)\n",
    "abc['position_label'].head()"
   ]
  },
  {
   "cell_type": "code",
   "execution_count": null,
   "metadata": {},
   "outputs": [],
   "source": [
    "# 직급라벨 변수의 개별직급의 서열순위를 명시적으로 설정함\n",
    "position_order = ['사원', '대리', '과장', '차장', '부장']\n",
    "position_order = [1,2,3,4,5]\n",
    "#abc['position_label'] = abc['position_label'].cat.reorder_categories(position_order, ordered=True)\n",
    "abc['position_label'] = abc['position_label'].cat.reorder_categories(abc.position, ordered=True)\n",
    "abc['position_label'].head()"
   ]
  },
  {
   "cell_type": "code",
   "execution_count": null,
   "metadata": {},
   "outputs": [],
   "source": [
    "# 성별라벨과 직급라벨 변수간 교차분석\n",
    "pd.crosstab(abc.gender_label, abc.position_label, margins=True)"
   ]
  },
  {
   "cell_type": "code",
   "execution_count": null,
   "metadata": {},
   "outputs": [],
   "source": [
    "# 성별라벨과 직급라벨 변수간 교차분석: 빈도수가 아닌 백분율로 표현  normalize=all, index, columns\n",
    "pd.crosstab(abc.gender_label, abc.position_label, margins=True, normalize='all')"
   ]
  },
  {
   "cell_type": "code",
   "execution_count": null,
   "metadata": {},
   "outputs": [],
   "source": [
    "# 그래프를 그리기 위해 margin없는 성별라벨과 직급라벨 변수간 교차분석 테이블 생성\n",
    "gp = pd.crosstab(abc.gender_label, abc.position_label)\n",
    "gp"
   ]
  },
  {
   "cell_type": "code",
   "execution_count": null,
   "metadata": {},
   "outputs": [],
   "source": [
    "# 성별라벨과 직급라벨 변수간 교차분석결과를 그래프(dodge형)로 구현\n",
    "gp.plot(kind='bar', rot=0, alpha=0.5)"
   ]
  },
  {
   "cell_type": "code",
   "execution_count": null,
   "metadata": {
    "scrolled": true
   },
   "outputs": [],
   "source": [
    "# 성별라벨과 직급라벨 변수간 교차분석결과를 그래프(stack형)로 구현\n",
    "gp.plot(kind='bar', stacked = True, rot=0, alpha=0.5)"
   ]
  },
  {
   "cell_type": "code",
   "execution_count": null,
   "metadata": {
    "scrolled": true
   },
   "outputs": [],
   "source": [
    "# 성별라벨과 직급라벨 변수간 교차분석: 빈도수가 아닌 비율로 표현  normalize=all, index, columns\n",
    "gp_prop = pd.crosstab(abc.gender_label, abc.position_label, normalize='index')\n",
    "pd.crosstab(abc.gender_label, abc.position_label, normalize='index')"
   ]
  },
  {
   "cell_type": "code",
   "execution_count": null,
   "metadata": {
    "scrolled": true
   },
   "outputs": [],
   "source": [
    "# 성별라벨과 직급라벨 변수간 교차분석결과(비율기준)를 그래프(dodge형)로 구현\n",
    "gp_prop.plot(kind='bar', rot=0, alpha=0.5)"
   ]
  },
  {
   "cell_type": "code",
   "execution_count": null,
   "metadata": {
    "scrolled": false
   },
   "outputs": [],
   "source": [
    "# 성별라벨과 직급라벨 변수간 교차분석결과(비율기준)를 그래프(stack형)로 구현\n",
    "gp_prop.plot(kind='bar', stacked = True, rot=0, alpha=0.5)"
   ]
  },
  {
   "cell_type": "markdown",
   "metadata": {},
   "source": [
    "## 피벗핑을 활용한 교차분석"
   ]
  },
  {
   "cell_type": "code",
   "execution_count": null,
   "metadata": {
    "scrolled": true
   },
   "outputs": [],
   "source": [
    "# 성별라벨 및 사원라벨에 따른 이벤트반응금액(price) 피벗팅 테이블 도출\n",
    "abc.pivot_table('price', 'gender_label', 'position_label', aggfunc = 'mean', margins =True)"
   ]
  },
  {
   "cell_type": "code",
   "execution_count": null,
   "metadata": {},
   "outputs": [],
   "source": [
    "# price변수의 기본구조 조회\n",
    "abc[['price']].info()"
   ]
  },
  {
   "cell_type": "code",
   "execution_count": null,
   "metadata": {},
   "outputs": [],
   "source": [
    "# price변수의 기술통계분석 조회\n",
    "abc[['price']].describe()"
   ]
  },
  {
   "cell_type": "code",
   "execution_count": null,
   "metadata": {
    "scrolled": true
   },
   "outputs": [],
   "source": [
    "# price변수의 산점도 작성\n",
    "plt.scatter(abc.price.index, abc.price)"
   ]
  },
  {
   "cell_type": "code",
   "execution_count": null,
   "metadata": {},
   "outputs": [],
   "source": [
    "# price변수의 데이터내용 조회\n",
    "p = abc.price.value_counts(sort=False, ascending=True).sort_index()\n",
    "p"
   ]
  },
  {
   "cell_type": "code",
   "execution_count": null,
   "metadata": {},
   "outputs": [],
   "source": [
    "# price변수의 데이터내용을 앞부분에서 간략하게 조회\n",
    "p.head(10)"
   ]
  },
  {
   "cell_type": "code",
   "execution_count": null,
   "metadata": {},
   "outputs": [],
   "source": [
    "# price변수의 데이터내용을 뒷부분에서 간략하게 조회\n",
    "p.tail(10)"
   ]
  },
  {
   "cell_type": "code",
   "execution_count": null,
   "metadata": {},
   "outputs": [],
   "source": [
    "# price변수의 내용중 이상치를 제외한 정상범위 데이터 필터링\n",
    "temp = abc.loc[(abc['price']>=0) & (abc['price']<=10), : ]"
   ]
  },
  {
   "cell_type": "code",
   "execution_count": null,
   "metadata": {},
   "outputs": [],
   "source": [
    "# 이상치가 제거된 price변수의 기본구조정보조회\n",
    "temp[['price']].info()"
   ]
  },
  {
   "cell_type": "code",
   "execution_count": null,
   "metadata": {
    "scrolled": true
   },
   "outputs": [],
   "source": [
    "# 이상치가 제거된 price변수의 기술통계분석내용 조회\n",
    "temp[['price']].describe()"
   ]
  },
  {
   "cell_type": "code",
   "execution_count": null,
   "metadata": {},
   "outputs": [],
   "source": [
    "# 성별과 직급변수에 따른 이벤트반응금액(price)을 비교하기 위한 피벗팅을 활용한 교차분석\n",
    "temp.pivot_table('price', 'gender_label', 'position_label', aggfunc = 'mean', margins =True)"
   ]
  },
  {
   "cell_type": "code",
   "execution_count": null,
   "metadata": {
    "scrolled": false
   },
   "outputs": [],
   "source": [
    "# 피벗팅을 결과를 그래프화하기 위한 데이터준비\n",
    "temp.pivot_table('price', 'gender_label', 'position_label', aggfunc = 'mean')\n",
    "out = temp.pivot_table('price', 'gender_label', 'position_label', aggfunc = 'mean')"
   ]
  },
  {
   "cell_type": "code",
   "execution_count": null,
   "metadata": {},
   "outputs": [],
   "source": [
    "# 성별라벨과 직급라벨 변수간 이벤트반응금액(price) 평균값을 비교하기 위한 그래프(dodge형) 구현\n",
    "out.plot(kind='bar', rot=0, alpha=0.5)"
   ]
  },
  {
   "cell_type": "code",
   "execution_count": null,
   "metadata": {
    "scrolled": false
   },
   "outputs": [],
   "source": [
    "# 성별라벨과 직급라벨 변수간 이벤트반응금액(price) 평균값을 비교하기 위한 그래프(stack형) 구현\n",
    "out.plot(kind='bar', stacked = True, rot=0, alpha=0.5)"
   ]
  },
  {
   "cell_type": "markdown",
   "metadata": {
    "collapsed": true
   },
   "source": [
    "## end of documents"
   ]
  }
 ],
 "metadata": {
  "anaconda-cloud": {},
  "kernelspec": {
   "display_name": "Python 3",
   "language": "python",
   "name": "python3"
  },
  "language_info": {
   "codemirror_mode": {
    "name": "ipython",
    "version": 3
   },
   "file_extension": ".py",
   "mimetype": "text/x-python",
   "name": "python",
   "nbconvert_exporter": "python",
   "pygments_lexer": "ipython3",
   "version": "3.6.5"
  }
 },
 "nbformat": 4,
 "nbformat_minor": 1
}
